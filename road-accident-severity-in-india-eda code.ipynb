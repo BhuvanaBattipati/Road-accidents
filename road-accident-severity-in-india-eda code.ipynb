{
 "cells": [
  {
   "cell_type": "code",
   "execution_count": 4,
   "id": "311ecb77",
   "metadata": {
    "_cell_guid": "b1076dfc-b9ad-4769-8c92-a6c4dae69d19",
    "_uuid": "8f2839f25d086af736a60e9eeb907d3b93b6e0e5",
    "execution": {
     "iopub.execute_input": "2024-02-04T20:55:10.548552Z",
     "iopub.status.busy": "2024-02-04T20:55:10.547984Z",
     "iopub.status.idle": "2024-02-04T20:55:11.563022Z",
     "shell.execute_reply": "2024-02-04T20:55:11.561927Z"
    },
    "papermill": {
     "duration": 1.031401,
     "end_time": "2024-02-04T20:55:11.565628",
     "exception": false,
     "start_time": "2024-02-04T20:55:10.534227",
     "status": "completed"
    },
    "tags": []
   },
   "outputs": [],
   "source": [
    "# This Python 3 environment comes with many helpful analytics libraries installed\n",
    "# It is defined by the kaggle/python Docker image: https://github.com/kaggle/docker-python\n",
    "# For example, here's several helpful packages to load\n",
    "\n",
    "import numpy as np # linear algebra\n",
    "import pandas as pd # data processing, CSV file I/O (e.g. pd.read_csv)\n",
    "\n",
    "# Input data files are available in the read-only \"../input/\" directory\n",
    "# For example, running this (by clicking run or pressing Shift+Enter) will list all files under the input directory\n",
    "\n",
    "import os\n",
    "for dirname, _, filenames in os.walk('/kaggle/input'):\n",
    "    for filename in filenames:\n",
    "        print(os.path.join(dirname, filename))\n",
    "\n",
    "# You can write up to 20GB to the current directory (/kaggle/working/) that gets preserved as output when you create a version using \"Save & Run All\" \n",
    "# You can also write temporary files to /kaggle/temp/, but they won't be saved outside of the current session"
   ]
  },
  {
   "cell_type": "markdown",
   "id": "5dcd4fa8",
   "metadata": {
    "papermill": {
     "duration": 0.012931,
     "end_time": "2024-02-04T20:55:11.590359",
     "exception": false,
     "start_time": "2024-02-04T20:55:11.577428",
     "status": "completed"
    },
    "tags": []
   },
   "source": [
    "# Road Accident Severity in India"
   ]
  },
  {
   "cell_type": "markdown",
   "id": "b5577a15",
   "metadata": {
    "papermill": {
     "duration": 0.010634,
     "end_time": "2024-02-04T20:55:11.612937",
     "exception": false,
     "start_time": "2024-02-04T20:55:11.602303",
     "status": "completed"
    },
    "tags": []
   },
   "source": [
    "#### While attending to our primary goal of using EDA(Exploratory Data Analysis ) to extract a variety of fascinating information, I have attempted to illustrate in this notebook the methodology of Properly Questioning the dataset."
   ]
  },
  {
   "cell_type": "markdown",
   "id": "22c41d48",
   "metadata": {
    "papermill": {
     "duration": 0.012626,
     "end_time": "2024-02-04T20:55:11.636231",
     "exception": false,
     "start_time": "2024-02-04T20:55:11.623605",
     "status": "completed"
    },
    "tags": []
   },
   "source": [
    "#### The dataset offers data on a number of variables related to Road Accident Severity in India, such as the time of day, the day of the week, the age range of drivers, gender, educational attainment, car attributes, driving history, road conditions, and the seriousness of accidents. We can learn more about the trends, connections, and possible risk factors associated with auto accidents by examining this dataset. The dataset offers valuable insights into the dynamics of road accidents, enabling authorities, policymakers, and researchers to make informed decisions regarding road safety measures and interventions."
   ]
  },
  {
   "cell_type": "markdown",
   "id": "1354592c",
   "metadata": {
    "papermill": {
     "duration": 0.010463,
     "end_time": "2024-02-04T20:55:11.659067",
     "exception": false,
     "start_time": "2024-02-04T20:55:11.648604",
     "status": "completed"
    },
    "tags": []
   },
   "source": [
    "#### Lets import all the necessary Libraries for our EDA"
   ]
  },
  {
   "cell_type": "code",
   "execution_count": 5,
   "id": "2b0cce66",
   "metadata": {
    "execution": {
     "iopub.execute_input": "2024-02-04T20:55:11.683216Z",
     "iopub.status.busy": "2024-02-04T20:55:11.682354Z",
     "iopub.status.idle": "2024-02-04T20:55:13.296383Z",
     "shell.execute_reply": "2024-02-04T20:55:13.295140Z"
    },
    "papermill": {
     "duration": 1.629191,
     "end_time": "2024-02-04T20:55:13.299308",
     "exception": false,
     "start_time": "2024-02-04T20:55:11.670117",
     "status": "completed"
    },
    "tags": []
   },
   "outputs": [],
   "source": [
    "import pandas as pd\n",
    "import numpy as np\n",
    "import matplotlib.pyplot as plt\n",
    "import seaborn as sns\n",
    "import warnings"
   ]
  },
  {
   "cell_type": "markdown",
   "id": "a2ce8d9d",
   "metadata": {
    "papermill": {
     "duration": 0.010559,
     "end_time": "2024-02-04T20:55:13.321488",
     "exception": false,
     "start_time": "2024-02-04T20:55:13.310929",
     "status": "completed"
    },
    "tags": []
   },
   "source": [
    "#### Pandas is a powerful library for data manipulation and analysis. It provides data structures like Series and DataFrame, which are essential for handling and analyzing structured data.\n",
    "#### NumPy is a numerical computing library that provides support for large, multi-dimensional arrays and matrices, along with mathematical functions to operate on these arrays.\n",
    "#### Matplotlib is a 2D plotting library that produces static, animated, and interactive visualizations in Python. It provides a wide variety of charts and plots for data visualization.\n",
    "#### Seaborn is a statistical data visualization library based on Matplotlib. It provides a high-level interface for creating attractive and informative statistical graphics."
   ]
  },
  {
   "cell_type": "markdown",
   "id": "8afcae01",
   "metadata": {
    "papermill": {
     "duration": 0.010373,
     "end_time": "2024-02-04T20:55:13.342745",
     "exception": false,
     "start_time": "2024-02-04T20:55:13.332372",
     "status": "completed"
    },
    "tags": []
   },
   "source": [
    "### Data Extraction \n",
    "##### We take the raw data and extract that data to our notebook for analysis \n",
    "##### We took our data from Kaggle link down below.\n",
    "# [Kaggle](https://www.kaggle.com/datasets/s3programmer/road-accident-severity-in-india/data)"
   ]
  },
  {
   "cell_type": "code",
   "execution_count": 13,
   "id": "33122f1e",
   "metadata": {
    "execution": {
     "iopub.execute_input": "2024-02-04T20:55:13.366290Z",
     "iopub.status.busy": "2024-02-04T20:55:13.365842Z",
     "iopub.status.idle": "2024-02-04T20:55:13.548915Z",
     "shell.execute_reply": "2024-02-04T20:55:13.547630Z"
    },
    "papermill": {
     "duration": 0.198353,
     "end_time": "2024-02-04T20:55:13.551766",
     "exception": false,
     "start_time": "2024-02-04T20:55:13.353413",
     "status": "completed"
    },
    "tags": []
   },
   "outputs": [],
   "source": [
    "file_path = r\"C:\\Users\\Bhishma\\OneDrive\\Documents\\Road.csv\"\n",
    "data = pd.read_csv(file_path)\n",
    "data.sample(3)\n",
    "warnings.filterwarnings(\"ignore\")"
   ]
  },
  {
   "cell_type": "code",
   "execution_count": null,
   "id": "3e2aea85",
   "metadata": {
    "execution": {
     "iopub.execute_input": "2024-02-04T20:55:13.575217Z",
     "iopub.status.busy": "2024-02-04T20:55:13.574793Z",
     "iopub.status.idle": "2024-02-04T20:55:13.579605Z",
     "shell.execute_reply": "2024-02-04T20:55:13.578234Z"
    },
    "papermill": {
     "duration": 0.019141,
     "end_time": "2024-02-04T20:55:13.581864",
     "exception": false,
     "start_time": "2024-02-04T20:55:13.562723",
     "status": "completed"
    },
    "tags": []
   },
   "outputs": [],
   "source": [
    "# head gives us first 5 datasets from this dataframe"
   ]
  },
  {
   "cell_type": "code",
   "execution_count": 14,
   "id": "5984513f",
   "metadata": {
    "execution": {
     "iopub.execute_input": "2024-02-04T20:55:13.605531Z",
     "iopub.status.busy": "2024-02-04T20:55:13.605081Z",
     "iopub.status.idle": "2024-02-04T20:55:13.637627Z",
     "shell.execute_reply": "2024-02-04T20:55:13.636233Z"
    },
    "papermill": {
     "duration": 0.047503,
     "end_time": "2024-02-04T20:55:13.640378",
     "exception": false,
     "start_time": "2024-02-04T20:55:13.592875",
     "status": "completed"
    },
    "tags": []
   },
   "outputs": [
    {
     "data": {
      "text/html": [
       "<div>\n",
       "<style scoped>\n",
       "    .dataframe tbody tr th:only-of-type {\n",
       "        vertical-align: middle;\n",
       "    }\n",
       "\n",
       "    .dataframe tbody tr th {\n",
       "        vertical-align: top;\n",
       "    }\n",
       "\n",
       "    .dataframe thead th {\n",
       "        text-align: right;\n",
       "    }\n",
       "</style>\n",
       "<table border=\"1\" class=\"dataframe\">\n",
       "  <thead>\n",
       "    <tr style=\"text-align: right;\">\n",
       "      <th></th>\n",
       "      <th>Time</th>\n",
       "      <th>Day_of_week</th>\n",
       "      <th>Age_band_of_driver</th>\n",
       "      <th>Sex_of_driver</th>\n",
       "      <th>Educational_level</th>\n",
       "      <th>Vehicle_driver_relation</th>\n",
       "      <th>Driving_experience</th>\n",
       "      <th>Type_of_vehicle</th>\n",
       "      <th>Owner_of_vehicle</th>\n",
       "      <th>Service_year_of_vehicle</th>\n",
       "      <th>...</th>\n",
       "      <th>Vehicle_movement</th>\n",
       "      <th>Casualty_class</th>\n",
       "      <th>Sex_of_casualty</th>\n",
       "      <th>Age_band_of_casualty</th>\n",
       "      <th>Casualty_severity</th>\n",
       "      <th>Work_of_casuality</th>\n",
       "      <th>Fitness_of_casuality</th>\n",
       "      <th>Pedestrian_movement</th>\n",
       "      <th>Cause_of_accident</th>\n",
       "      <th>Accident_severity</th>\n",
       "    </tr>\n",
       "  </thead>\n",
       "  <tbody>\n",
       "    <tr>\n",
       "      <th>0</th>\n",
       "      <td>17:02:00</td>\n",
       "      <td>Monday</td>\n",
       "      <td>18-30</td>\n",
       "      <td>Male</td>\n",
       "      <td>Above high school</td>\n",
       "      <td>Employee</td>\n",
       "      <td>1-2yr</td>\n",
       "      <td>Automobile</td>\n",
       "      <td>Owner</td>\n",
       "      <td>Above 10yr</td>\n",
       "      <td>...</td>\n",
       "      <td>Going straight</td>\n",
       "      <td>na</td>\n",
       "      <td>na</td>\n",
       "      <td>na</td>\n",
       "      <td>na</td>\n",
       "      <td>NaN</td>\n",
       "      <td>NaN</td>\n",
       "      <td>Not a Pedestrian</td>\n",
       "      <td>Moving Backward</td>\n",
       "      <td>Slight Injury</td>\n",
       "    </tr>\n",
       "    <tr>\n",
       "      <th>1</th>\n",
       "      <td>17:02:00</td>\n",
       "      <td>Monday</td>\n",
       "      <td>31-50</td>\n",
       "      <td>Male</td>\n",
       "      <td>Junior high school</td>\n",
       "      <td>Employee</td>\n",
       "      <td>Above 10yr</td>\n",
       "      <td>Public (&gt; 45 seats)</td>\n",
       "      <td>Owner</td>\n",
       "      <td>5-10yrs</td>\n",
       "      <td>...</td>\n",
       "      <td>Going straight</td>\n",
       "      <td>na</td>\n",
       "      <td>na</td>\n",
       "      <td>na</td>\n",
       "      <td>na</td>\n",
       "      <td>NaN</td>\n",
       "      <td>NaN</td>\n",
       "      <td>Not a Pedestrian</td>\n",
       "      <td>Overtaking</td>\n",
       "      <td>Slight Injury</td>\n",
       "    </tr>\n",
       "    <tr>\n",
       "      <th>2</th>\n",
       "      <td>17:02:00</td>\n",
       "      <td>Monday</td>\n",
       "      <td>18-30</td>\n",
       "      <td>Male</td>\n",
       "      <td>Junior high school</td>\n",
       "      <td>Employee</td>\n",
       "      <td>1-2yr</td>\n",
       "      <td>Lorry (41?100Q)</td>\n",
       "      <td>Owner</td>\n",
       "      <td>NaN</td>\n",
       "      <td>...</td>\n",
       "      <td>Going straight</td>\n",
       "      <td>Driver or rider</td>\n",
       "      <td>Male</td>\n",
       "      <td>31-50</td>\n",
       "      <td>3</td>\n",
       "      <td>Driver</td>\n",
       "      <td>NaN</td>\n",
       "      <td>Not a Pedestrian</td>\n",
       "      <td>Changing lane to the left</td>\n",
       "      <td>Serious Injury</td>\n",
       "    </tr>\n",
       "    <tr>\n",
       "      <th>3</th>\n",
       "      <td>1:06:00</td>\n",
       "      <td>Sunday</td>\n",
       "      <td>18-30</td>\n",
       "      <td>Male</td>\n",
       "      <td>Junior high school</td>\n",
       "      <td>Employee</td>\n",
       "      <td>5-10yr</td>\n",
       "      <td>Public (&gt; 45 seats)</td>\n",
       "      <td>Governmental</td>\n",
       "      <td>NaN</td>\n",
       "      <td>...</td>\n",
       "      <td>Going straight</td>\n",
       "      <td>Pedestrian</td>\n",
       "      <td>Female</td>\n",
       "      <td>18-30</td>\n",
       "      <td>3</td>\n",
       "      <td>Driver</td>\n",
       "      <td>Normal</td>\n",
       "      <td>Not a Pedestrian</td>\n",
       "      <td>Changing lane to the right</td>\n",
       "      <td>Slight Injury</td>\n",
       "    </tr>\n",
       "    <tr>\n",
       "      <th>4</th>\n",
       "      <td>1:06:00</td>\n",
       "      <td>Sunday</td>\n",
       "      <td>18-30</td>\n",
       "      <td>Male</td>\n",
       "      <td>Junior high school</td>\n",
       "      <td>Employee</td>\n",
       "      <td>2-5yr</td>\n",
       "      <td>NaN</td>\n",
       "      <td>Owner</td>\n",
       "      <td>5-10yrs</td>\n",
       "      <td>...</td>\n",
       "      <td>Going straight</td>\n",
       "      <td>na</td>\n",
       "      <td>na</td>\n",
       "      <td>na</td>\n",
       "      <td>na</td>\n",
       "      <td>NaN</td>\n",
       "      <td>NaN</td>\n",
       "      <td>Not a Pedestrian</td>\n",
       "      <td>Overtaking</td>\n",
       "      <td>Slight Injury</td>\n",
       "    </tr>\n",
       "  </tbody>\n",
       "</table>\n",
       "<p>5 rows × 32 columns</p>\n",
       "</div>"
      ],
      "text/plain": [
       "       Time Day_of_week Age_band_of_driver Sex_of_driver   Educational_level  \\\n",
       "0  17:02:00      Monday              18-30          Male   Above high school   \n",
       "1  17:02:00      Monday              31-50          Male  Junior high school   \n",
       "2  17:02:00      Monday              18-30          Male  Junior high school   \n",
       "3   1:06:00      Sunday              18-30          Male  Junior high school   \n",
       "4   1:06:00      Sunday              18-30          Male  Junior high school   \n",
       "\n",
       "  Vehicle_driver_relation Driving_experience      Type_of_vehicle  \\\n",
       "0                Employee              1-2yr           Automobile   \n",
       "1                Employee         Above 10yr  Public (> 45 seats)   \n",
       "2                Employee              1-2yr      Lorry (41?100Q)   \n",
       "3                Employee             5-10yr  Public (> 45 seats)   \n",
       "4                Employee              2-5yr                  NaN   \n",
       "\n",
       "  Owner_of_vehicle Service_year_of_vehicle  ... Vehicle_movement  \\\n",
       "0            Owner              Above 10yr  ...   Going straight   \n",
       "1            Owner                 5-10yrs  ...   Going straight   \n",
       "2            Owner                     NaN  ...   Going straight   \n",
       "3     Governmental                     NaN  ...   Going straight   \n",
       "4            Owner                 5-10yrs  ...   Going straight   \n",
       "\n",
       "    Casualty_class Sex_of_casualty Age_band_of_casualty Casualty_severity  \\\n",
       "0               na              na                   na                na   \n",
       "1               na              na                   na                na   \n",
       "2  Driver or rider            Male                31-50                 3   \n",
       "3       Pedestrian          Female                18-30                 3   \n",
       "4               na              na                   na                na   \n",
       "\n",
       "  Work_of_casuality Fitness_of_casuality Pedestrian_movement  \\\n",
       "0               NaN                  NaN    Not a Pedestrian   \n",
       "1               NaN                  NaN    Not a Pedestrian   \n",
       "2            Driver                  NaN    Not a Pedestrian   \n",
       "3            Driver               Normal    Not a Pedestrian   \n",
       "4               NaN                  NaN    Not a Pedestrian   \n",
       "\n",
       "            Cause_of_accident Accident_severity  \n",
       "0             Moving Backward     Slight Injury  \n",
       "1                  Overtaking     Slight Injury  \n",
       "2   Changing lane to the left    Serious Injury  \n",
       "3  Changing lane to the right     Slight Injury  \n",
       "4                  Overtaking     Slight Injury  \n",
       "\n",
       "[5 rows x 32 columns]"
      ]
     },
     "execution_count": 14,
     "metadata": {},
     "output_type": "execute_result"
    }
   ],
   "source": [
    "data.head()"
   ]
  },
  {
   "cell_type": "code",
   "execution_count": null,
   "id": "dea194f2",
   "metadata": {
    "execution": {
     "iopub.execute_input": "2024-02-04T20:55:13.665868Z",
     "iopub.status.busy": "2024-02-04T20:55:13.665441Z",
     "iopub.status.idle": "2024-02-04T20:55:13.670399Z",
     "shell.execute_reply": "2024-02-04T20:55:13.668971Z"
    },
    "papermill": {
     "duration": 0.021194,
     "end_time": "2024-02-04T20:55:13.673144",
     "exception": false,
     "start_time": "2024-02-04T20:55:13.651950",
     "status": "completed"
    },
    "tags": []
   },
   "outputs": [],
   "source": [
    "# tail gives us last 5 datasets from this dataframe."
   ]
  },
  {
   "cell_type": "code",
   "execution_count": 15,
   "id": "8e072eb9",
   "metadata": {
    "execution": {
     "iopub.execute_input": "2024-02-04T20:55:13.697027Z",
     "iopub.status.busy": "2024-02-04T20:55:13.696603Z",
     "iopub.status.idle": "2024-02-04T20:55:13.719334Z",
     "shell.execute_reply": "2024-02-04T20:55:13.718183Z"
    },
    "papermill": {
     "duration": 0.03782,
     "end_time": "2024-02-04T20:55:13.721971",
     "exception": false,
     "start_time": "2024-02-04T20:55:13.684151",
     "status": "completed"
    },
    "tags": []
   },
   "outputs": [
    {
     "data": {
      "text/html": [
       "<div>\n",
       "<style scoped>\n",
       "    .dataframe tbody tr th:only-of-type {\n",
       "        vertical-align: middle;\n",
       "    }\n",
       "\n",
       "    .dataframe tbody tr th {\n",
       "        vertical-align: top;\n",
       "    }\n",
       "\n",
       "    .dataframe thead th {\n",
       "        text-align: right;\n",
       "    }\n",
       "</style>\n",
       "<table border=\"1\" class=\"dataframe\">\n",
       "  <thead>\n",
       "    <tr style=\"text-align: right;\">\n",
       "      <th></th>\n",
       "      <th>Time</th>\n",
       "      <th>Day_of_week</th>\n",
       "      <th>Age_band_of_driver</th>\n",
       "      <th>Sex_of_driver</th>\n",
       "      <th>Educational_level</th>\n",
       "      <th>Vehicle_driver_relation</th>\n",
       "      <th>Driving_experience</th>\n",
       "      <th>Type_of_vehicle</th>\n",
       "      <th>Owner_of_vehicle</th>\n",
       "      <th>Service_year_of_vehicle</th>\n",
       "      <th>...</th>\n",
       "      <th>Vehicle_movement</th>\n",
       "      <th>Casualty_class</th>\n",
       "      <th>Sex_of_casualty</th>\n",
       "      <th>Age_band_of_casualty</th>\n",
       "      <th>Casualty_severity</th>\n",
       "      <th>Work_of_casuality</th>\n",
       "      <th>Fitness_of_casuality</th>\n",
       "      <th>Pedestrian_movement</th>\n",
       "      <th>Cause_of_accident</th>\n",
       "      <th>Accident_severity</th>\n",
       "    </tr>\n",
       "  </thead>\n",
       "  <tbody>\n",
       "    <tr>\n",
       "      <th>12311</th>\n",
       "      <td>16:15:00</td>\n",
       "      <td>Wednesday</td>\n",
       "      <td>31-50</td>\n",
       "      <td>Male</td>\n",
       "      <td>NaN</td>\n",
       "      <td>Employee</td>\n",
       "      <td>2-5yr</td>\n",
       "      <td>Lorry (11?40Q)</td>\n",
       "      <td>Owner</td>\n",
       "      <td>NaN</td>\n",
       "      <td>...</td>\n",
       "      <td>Going straight</td>\n",
       "      <td>na</td>\n",
       "      <td>na</td>\n",
       "      <td>na</td>\n",
       "      <td>na</td>\n",
       "      <td>Driver</td>\n",
       "      <td>Normal</td>\n",
       "      <td>Not a Pedestrian</td>\n",
       "      <td>No distancing</td>\n",
       "      <td>Slight Injury</td>\n",
       "    </tr>\n",
       "    <tr>\n",
       "      <th>12312</th>\n",
       "      <td>18:00:00</td>\n",
       "      <td>Sunday</td>\n",
       "      <td>Unknown</td>\n",
       "      <td>Male</td>\n",
       "      <td>Elementary school</td>\n",
       "      <td>Employee</td>\n",
       "      <td>5-10yr</td>\n",
       "      <td>Automobile</td>\n",
       "      <td>Owner</td>\n",
       "      <td>NaN</td>\n",
       "      <td>...</td>\n",
       "      <td>Other</td>\n",
       "      <td>na</td>\n",
       "      <td>na</td>\n",
       "      <td>na</td>\n",
       "      <td>na</td>\n",
       "      <td>Driver</td>\n",
       "      <td>Normal</td>\n",
       "      <td>Not a Pedestrian</td>\n",
       "      <td>No distancing</td>\n",
       "      <td>Slight Injury</td>\n",
       "    </tr>\n",
       "    <tr>\n",
       "      <th>12313</th>\n",
       "      <td>13:55:00</td>\n",
       "      <td>Sunday</td>\n",
       "      <td>Over 51</td>\n",
       "      <td>Male</td>\n",
       "      <td>Junior high school</td>\n",
       "      <td>Employee</td>\n",
       "      <td>5-10yr</td>\n",
       "      <td>Bajaj</td>\n",
       "      <td>Owner</td>\n",
       "      <td>2-5yrs</td>\n",
       "      <td>...</td>\n",
       "      <td>Other</td>\n",
       "      <td>Driver or rider</td>\n",
       "      <td>Male</td>\n",
       "      <td>31-50</td>\n",
       "      <td>3</td>\n",
       "      <td>Driver</td>\n",
       "      <td>Normal</td>\n",
       "      <td>Not a Pedestrian</td>\n",
       "      <td>Changing lane to the right</td>\n",
       "      <td>Serious Injury</td>\n",
       "    </tr>\n",
       "    <tr>\n",
       "      <th>12314</th>\n",
       "      <td>13:55:00</td>\n",
       "      <td>Sunday</td>\n",
       "      <td>18-30</td>\n",
       "      <td>Female</td>\n",
       "      <td>Junior high school</td>\n",
       "      <td>Employee</td>\n",
       "      <td>Above 10yr</td>\n",
       "      <td>Lorry (41?100Q)</td>\n",
       "      <td>Owner</td>\n",
       "      <td>2-5yrs</td>\n",
       "      <td>...</td>\n",
       "      <td>Other</td>\n",
       "      <td>na</td>\n",
       "      <td>na</td>\n",
       "      <td>na</td>\n",
       "      <td>na</td>\n",
       "      <td>Driver</td>\n",
       "      <td>Normal</td>\n",
       "      <td>Not a Pedestrian</td>\n",
       "      <td>Driving under the influence of drugs</td>\n",
       "      <td>Slight Injury</td>\n",
       "    </tr>\n",
       "    <tr>\n",
       "      <th>12315</th>\n",
       "      <td>13:55:00</td>\n",
       "      <td>Sunday</td>\n",
       "      <td>18-30</td>\n",
       "      <td>Male</td>\n",
       "      <td>Junior high school</td>\n",
       "      <td>Employee</td>\n",
       "      <td>5-10yr</td>\n",
       "      <td>Other</td>\n",
       "      <td>Owner</td>\n",
       "      <td>2-5yrs</td>\n",
       "      <td>...</td>\n",
       "      <td>Stopping</td>\n",
       "      <td>Pedestrian</td>\n",
       "      <td>Female</td>\n",
       "      <td>5</td>\n",
       "      <td>3</td>\n",
       "      <td>Driver</td>\n",
       "      <td>Normal</td>\n",
       "      <td>Crossing from nearside - masked by parked or s...</td>\n",
       "      <td>Changing lane to the right</td>\n",
       "      <td>Slight Injury</td>\n",
       "    </tr>\n",
       "  </tbody>\n",
       "</table>\n",
       "<p>5 rows × 32 columns</p>\n",
       "</div>"
      ],
      "text/plain": [
       "           Time Day_of_week Age_band_of_driver Sex_of_driver  \\\n",
       "12311  16:15:00   Wednesday              31-50          Male   \n",
       "12312  18:00:00      Sunday            Unknown          Male   \n",
       "12313  13:55:00      Sunday            Over 51          Male   \n",
       "12314  13:55:00      Sunday              18-30        Female   \n",
       "12315  13:55:00      Sunday              18-30          Male   \n",
       "\n",
       "        Educational_level Vehicle_driver_relation Driving_experience  \\\n",
       "12311                 NaN                Employee              2-5yr   \n",
       "12312   Elementary school                Employee             5-10yr   \n",
       "12313  Junior high school                Employee             5-10yr   \n",
       "12314  Junior high school                Employee         Above 10yr   \n",
       "12315  Junior high school                Employee             5-10yr   \n",
       "\n",
       "       Type_of_vehicle Owner_of_vehicle Service_year_of_vehicle  ...  \\\n",
       "12311   Lorry (11?40Q)            Owner                     NaN  ...   \n",
       "12312       Automobile            Owner                     NaN  ...   \n",
       "12313            Bajaj            Owner                  2-5yrs  ...   \n",
       "12314  Lorry (41?100Q)            Owner                  2-5yrs  ...   \n",
       "12315            Other            Owner                  2-5yrs  ...   \n",
       "\n",
       "      Vehicle_movement   Casualty_class Sex_of_casualty Age_band_of_casualty  \\\n",
       "12311   Going straight               na              na                   na   \n",
       "12312            Other               na              na                   na   \n",
       "12313            Other  Driver or rider            Male                31-50   \n",
       "12314            Other               na              na                   na   \n",
       "12315         Stopping       Pedestrian          Female                    5   \n",
       "\n",
       "      Casualty_severity Work_of_casuality Fitness_of_casuality  \\\n",
       "12311                na            Driver               Normal   \n",
       "12312                na            Driver               Normal   \n",
       "12313                 3            Driver               Normal   \n",
       "12314                na            Driver               Normal   \n",
       "12315                 3            Driver               Normal   \n",
       "\n",
       "                                     Pedestrian_movement  \\\n",
       "12311                                   Not a Pedestrian   \n",
       "12312                                   Not a Pedestrian   \n",
       "12313                                   Not a Pedestrian   \n",
       "12314                                   Not a Pedestrian   \n",
       "12315  Crossing from nearside - masked by parked or s...   \n",
       "\n",
       "                          Cause_of_accident Accident_severity  \n",
       "12311                         No distancing     Slight Injury  \n",
       "12312                         No distancing     Slight Injury  \n",
       "12313            Changing lane to the right    Serious Injury  \n",
       "12314  Driving under the influence of drugs     Slight Injury  \n",
       "12315            Changing lane to the right     Slight Injury  \n",
       "\n",
       "[5 rows x 32 columns]"
      ]
     },
     "execution_count": 15,
     "metadata": {},
     "output_type": "execute_result"
    }
   ],
   "source": [
    "data.tail()"
   ]
  },
  {
   "cell_type": "code",
   "execution_count": null,
   "id": "5bfb6c0e",
   "metadata": {
    "execution": {
     "iopub.execute_input": "2024-02-04T20:55:13.748071Z",
     "iopub.status.busy": "2024-02-04T20:55:13.747638Z",
     "iopub.status.idle": "2024-02-04T20:55:13.752724Z",
     "shell.execute_reply": "2024-02-04T20:55:13.751476Z"
    },
    "papermill": {
     "duration": 0.021758,
     "end_time": "2024-02-04T20:55:13.755458",
     "exception": false,
     "start_time": "2024-02-04T20:55:13.733700",
     "status": "completed"
    },
    "tags": []
   },
   "outputs": [],
   "source": [
    "# shape help us to nagivate how much columns and row are in this dataframe."
   ]
  },
  {
   "cell_type": "code",
   "execution_count": 16,
   "id": "5415c428",
   "metadata": {
    "execution": {
     "iopub.execute_input": "2024-02-04T20:55:13.780005Z",
     "iopub.status.busy": "2024-02-04T20:55:13.779563Z",
     "iopub.status.idle": "2024-02-04T20:55:13.786516Z",
     "shell.execute_reply": "2024-02-04T20:55:13.785362Z"
    },
    "papermill": {
     "duration": 0.022309,
     "end_time": "2024-02-04T20:55:13.789071",
     "exception": false,
     "start_time": "2024-02-04T20:55:13.766762",
     "status": "completed"
    },
    "tags": []
   },
   "outputs": [
    {
     "data": {
      "text/plain": [
       "(12316, 32)"
      ]
     },
     "execution_count": 16,
     "metadata": {},
     "output_type": "execute_result"
    }
   ],
   "source": [
    "data.shape"
   ]
  },
  {
   "cell_type": "code",
   "execution_count": null,
   "id": "32d895ff",
   "metadata": {
    "execution": {
     "iopub.execute_input": "2024-02-04T20:55:13.814728Z",
     "iopub.status.busy": "2024-02-04T20:55:13.814297Z",
     "iopub.status.idle": "2024-02-04T20:55:13.819100Z",
     "shell.execute_reply": "2024-02-04T20:55:13.817870Z"
    },
    "papermill": {
     "duration": 0.021122,
     "end_time": "2024-02-04T20:55:13.821793",
     "exception": false,
     "start_time": "2024-02-04T20:55:13.800671",
     "status": "completed"
    },
    "tags": []
   },
   "outputs": [],
   "source": [
    "# The info() method prints information about the DataFrame.\n",
    "# The information contains the number of columns, column labels, column data types, memory usage, range index, and the number of cells in each column (non-null values)."
   ]
  },
  {
   "cell_type": "code",
   "execution_count": 17,
   "id": "c5fc74c5",
   "metadata": {
    "execution": {
     "iopub.execute_input": "2024-02-04T20:55:13.846646Z",
     "iopub.status.busy": "2024-02-04T20:55:13.846211Z",
     "iopub.status.idle": "2024-02-04T20:55:13.890033Z",
     "shell.execute_reply": "2024-02-04T20:55:13.888544Z"
    },
    "papermill": {
     "duration": 0.059439,
     "end_time": "2024-02-04T20:55:13.892758",
     "exception": false,
     "start_time": "2024-02-04T20:55:13.833319",
     "status": "completed"
    },
    "tags": []
   },
   "outputs": [
    {
     "name": "stdout",
     "output_type": "stream",
     "text": [
      "<class 'pandas.core.frame.DataFrame'>\n",
      "RangeIndex: 12316 entries, 0 to 12315\n",
      "Data columns (total 32 columns):\n",
      " #   Column                       Non-Null Count  Dtype \n",
      "---  ------                       --------------  ----- \n",
      " 0   Time                         12316 non-null  object\n",
      " 1   Day_of_week                  12316 non-null  object\n",
      " 2   Age_band_of_driver           12316 non-null  object\n",
      " 3   Sex_of_driver                12316 non-null  object\n",
      " 4   Educational_level            11575 non-null  object\n",
      " 5   Vehicle_driver_relation      11737 non-null  object\n",
      " 6   Driving_experience           11487 non-null  object\n",
      " 7   Type_of_vehicle              11366 non-null  object\n",
      " 8   Owner_of_vehicle             11834 non-null  object\n",
      " 9   Service_year_of_vehicle      8388 non-null   object\n",
      " 10  Defect_of_vehicle            7889 non-null   object\n",
      " 11  Area_accident_occured        12077 non-null  object\n",
      " 12  Lanes_or_Medians             11931 non-null  object\n",
      " 13  Road_allignment              12174 non-null  object\n",
      " 14  Types_of_Junction            11429 non-null  object\n",
      " 15  Road_surface_type            12144 non-null  object\n",
      " 16  Road_surface_conditions      12316 non-null  object\n",
      " 17  Light_conditions             12316 non-null  object\n",
      " 18  Weather_conditions           12316 non-null  object\n",
      " 19  Type_of_collision            12161 non-null  object\n",
      " 20  Number_of_vehicles_involved  12316 non-null  int64 \n",
      " 21  Number_of_casualties         12316 non-null  int64 \n",
      " 22  Vehicle_movement             12008 non-null  object\n",
      " 23  Casualty_class               12316 non-null  object\n",
      " 24  Sex_of_casualty              12316 non-null  object\n",
      " 25  Age_band_of_casualty         12316 non-null  object\n",
      " 26  Casualty_severity            12316 non-null  object\n",
      " 27  Work_of_casuality            9118 non-null   object\n",
      " 28  Fitness_of_casuality         9681 non-null   object\n",
      " 29  Pedestrian_movement          12316 non-null  object\n",
      " 30  Cause_of_accident            12316 non-null  object\n",
      " 31  Accident_severity            12316 non-null  object\n",
      "dtypes: int64(2), object(30)\n",
      "memory usage: 3.0+ MB\n"
     ]
    }
   ],
   "source": [
    "data.info()"
   ]
  },
  {
   "cell_type": "code",
   "execution_count": null,
   "id": "168708c7",
   "metadata": {
    "execution": {
     "iopub.execute_input": "2024-02-04T20:55:13.918552Z",
     "iopub.status.busy": "2024-02-04T20:55:13.917906Z",
     "iopub.status.idle": "2024-02-04T20:55:13.922623Z",
     "shell.execute_reply": "2024-02-04T20:55:13.921360Z"
    },
    "papermill": {
     "duration": 0.020466,
     "end_time": "2024-02-04T20:55:13.924763",
     "exception": false,
     "start_time": "2024-02-04T20:55:13.904297",
     "status": "completed"
    },
    "tags": []
   },
   "outputs": [],
   "source": [
    "# The describe() method gives us summary statistics for numerical columns in our DataFrame."
   ]
  },
  {
   "cell_type": "code",
   "execution_count": 18,
   "id": "70e01723",
   "metadata": {
    "execution": {
     "iopub.execute_input": "2024-02-04T20:55:13.949815Z",
     "iopub.status.busy": "2024-02-04T20:55:13.949388Z",
     "iopub.status.idle": "2024-02-04T20:55:13.968479Z",
     "shell.execute_reply": "2024-02-04T20:55:13.967096Z"
    },
    "papermill": {
     "duration": 0.034926,
     "end_time": "2024-02-04T20:55:13.971297",
     "exception": false,
     "start_time": "2024-02-04T20:55:13.936371",
     "status": "completed"
    },
    "tags": []
   },
   "outputs": [
    {
     "data": {
      "text/html": [
       "<div>\n",
       "<style scoped>\n",
       "    .dataframe tbody tr th:only-of-type {\n",
       "        vertical-align: middle;\n",
       "    }\n",
       "\n",
       "    .dataframe tbody tr th {\n",
       "        vertical-align: top;\n",
       "    }\n",
       "\n",
       "    .dataframe thead th {\n",
       "        text-align: right;\n",
       "    }\n",
       "</style>\n",
       "<table border=\"1\" class=\"dataframe\">\n",
       "  <thead>\n",
       "    <tr style=\"text-align: right;\">\n",
       "      <th></th>\n",
       "      <th>Number_of_vehicles_involved</th>\n",
       "      <th>Number_of_casualties</th>\n",
       "    </tr>\n",
       "  </thead>\n",
       "  <tbody>\n",
       "    <tr>\n",
       "      <th>count</th>\n",
       "      <td>12316.000000</td>\n",
       "      <td>12316.000000</td>\n",
       "    </tr>\n",
       "    <tr>\n",
       "      <th>mean</th>\n",
       "      <td>2.040679</td>\n",
       "      <td>1.548149</td>\n",
       "    </tr>\n",
       "    <tr>\n",
       "      <th>std</th>\n",
       "      <td>0.688790</td>\n",
       "      <td>1.007179</td>\n",
       "    </tr>\n",
       "    <tr>\n",
       "      <th>min</th>\n",
       "      <td>1.000000</td>\n",
       "      <td>1.000000</td>\n",
       "    </tr>\n",
       "    <tr>\n",
       "      <th>25%</th>\n",
       "      <td>2.000000</td>\n",
       "      <td>1.000000</td>\n",
       "    </tr>\n",
       "    <tr>\n",
       "      <th>50%</th>\n",
       "      <td>2.000000</td>\n",
       "      <td>1.000000</td>\n",
       "    </tr>\n",
       "    <tr>\n",
       "      <th>75%</th>\n",
       "      <td>2.000000</td>\n",
       "      <td>2.000000</td>\n",
       "    </tr>\n",
       "    <tr>\n",
       "      <th>max</th>\n",
       "      <td>7.000000</td>\n",
       "      <td>8.000000</td>\n",
       "    </tr>\n",
       "  </tbody>\n",
       "</table>\n",
       "</div>"
      ],
      "text/plain": [
       "       Number_of_vehicles_involved  Number_of_casualties\n",
       "count                 12316.000000          12316.000000\n",
       "mean                      2.040679              1.548149\n",
       "std                       0.688790              1.007179\n",
       "min                       1.000000              1.000000\n",
       "25%                       2.000000              1.000000\n",
       "50%                       2.000000              1.000000\n",
       "75%                       2.000000              2.000000\n",
       "max                       7.000000              8.000000"
      ]
     },
     "execution_count": 18,
     "metadata": {},
     "output_type": "execute_result"
    }
   ],
   "source": [
    "data.describe()"
   ]
  },
  {
   "cell_type": "code",
   "execution_count": null,
   "id": "536daf72",
   "metadata": {
    "execution": {
     "iopub.execute_input": "2024-02-04T20:55:13.999689Z",
     "iopub.status.busy": "2024-02-04T20:55:13.999140Z",
     "iopub.status.idle": "2024-02-04T20:55:14.004267Z",
     "shell.execute_reply": "2024-02-04T20:55:14.003097Z"
    },
    "papermill": {
     "duration": 0.020693,
     "end_time": "2024-02-04T20:55:14.006644",
     "exception": false,
     "start_time": "2024-02-04T20:55:13.985951",
     "status": "completed"
    },
    "tags": []
   },
   "outputs": [],
   "source": [
    "# columns gives use the name of columns in the dataframe"
   ]
  },
  {
   "cell_type": "code",
   "execution_count": 19,
   "id": "6b12b7bf",
   "metadata": {
    "execution": {
     "iopub.execute_input": "2024-02-04T20:55:14.033435Z",
     "iopub.status.busy": "2024-02-04T20:55:14.032153Z",
     "iopub.status.idle": "2024-02-04T20:55:14.039238Z",
     "shell.execute_reply": "2024-02-04T20:55:14.038371Z"
    },
    "papermill": {
     "duration": 0.023033,
     "end_time": "2024-02-04T20:55:14.041519",
     "exception": false,
     "start_time": "2024-02-04T20:55:14.018486",
     "status": "completed"
    },
    "tags": []
   },
   "outputs": [
    {
     "data": {
      "text/plain": [
       "Index(['Time', 'Day_of_week', 'Age_band_of_driver', 'Sex_of_driver',\n",
       "       'Educational_level', 'Vehicle_driver_relation', 'Driving_experience',\n",
       "       'Type_of_vehicle', 'Owner_of_vehicle', 'Service_year_of_vehicle',\n",
       "       'Defect_of_vehicle', 'Area_accident_occured', 'Lanes_or_Medians',\n",
       "       'Road_allignment', 'Types_of_Junction', 'Road_surface_type',\n",
       "       'Road_surface_conditions', 'Light_conditions', 'Weather_conditions',\n",
       "       'Type_of_collision', 'Number_of_vehicles_involved',\n",
       "       'Number_of_casualties', 'Vehicle_movement', 'Casualty_class',\n",
       "       'Sex_of_casualty', 'Age_band_of_casualty', 'Casualty_severity',\n",
       "       'Work_of_casuality', 'Fitness_of_casuality', 'Pedestrian_movement',\n",
       "       'Cause_of_accident', 'Accident_severity'],\n",
       "      dtype='object')"
      ]
     },
     "execution_count": 19,
     "metadata": {},
     "output_type": "execute_result"
    }
   ],
   "source": [
    "data.columns"
   ]
  },
  {
   "cell_type": "code",
   "execution_count": null,
   "id": "6c45f34d",
   "metadata": {
    "execution": {
     "iopub.execute_input": "2024-02-04T20:55:14.068467Z",
     "iopub.status.busy": "2024-02-04T20:55:14.067684Z",
     "iopub.status.idle": "2024-02-04T20:55:14.072474Z",
     "shell.execute_reply": "2024-02-04T20:55:14.071562Z"
    },
    "papermill": {
     "duration": 0.021213,
     "end_time": "2024-02-04T20:55:14.074781",
     "exception": false,
     "start_time": "2024-02-04T20:55:14.053568",
     "status": "completed"
    },
    "tags": []
   },
   "outputs": [],
   "source": [
    "# isna() give return False for every null value and True for every non null value."
   ]
  },
  {
   "cell_type": "code",
   "execution_count": 20,
   "id": "40a66557",
   "metadata": {
    "execution": {
     "iopub.execute_input": "2024-02-04T20:55:14.163044Z",
     "iopub.status.busy": "2024-02-04T20:55:14.162272Z",
     "iopub.status.idle": "2024-02-04T20:55:14.192719Z",
     "shell.execute_reply": "2024-02-04T20:55:14.191560Z"
    },
    "papermill": {
     "duration": 0.046277,
     "end_time": "2024-02-04T20:55:14.195075",
     "exception": false,
     "start_time": "2024-02-04T20:55:14.148798",
     "status": "completed"
    },
    "tags": []
   },
   "outputs": [
    {
     "data": {
      "text/html": [
       "<div>\n",
       "<style scoped>\n",
       "    .dataframe tbody tr th:only-of-type {\n",
       "        vertical-align: middle;\n",
       "    }\n",
       "\n",
       "    .dataframe tbody tr th {\n",
       "        vertical-align: top;\n",
       "    }\n",
       "\n",
       "    .dataframe thead th {\n",
       "        text-align: right;\n",
       "    }\n",
       "</style>\n",
       "<table border=\"1\" class=\"dataframe\">\n",
       "  <thead>\n",
       "    <tr style=\"text-align: right;\">\n",
       "      <th></th>\n",
       "      <th>index</th>\n",
       "      <th>0</th>\n",
       "    </tr>\n",
       "  </thead>\n",
       "  <tbody>\n",
       "    <tr>\n",
       "      <th>0</th>\n",
       "      <td>Time</td>\n",
       "      <td>0</td>\n",
       "    </tr>\n",
       "    <tr>\n",
       "      <th>1</th>\n",
       "      <td>Day_of_week</td>\n",
       "      <td>0</td>\n",
       "    </tr>\n",
       "    <tr>\n",
       "      <th>2</th>\n",
       "      <td>Age_band_of_driver</td>\n",
       "      <td>0</td>\n",
       "    </tr>\n",
       "    <tr>\n",
       "      <th>3</th>\n",
       "      <td>Sex_of_driver</td>\n",
       "      <td>0</td>\n",
       "    </tr>\n",
       "    <tr>\n",
       "      <th>4</th>\n",
       "      <td>Educational_level</td>\n",
       "      <td>741</td>\n",
       "    </tr>\n",
       "    <tr>\n",
       "      <th>5</th>\n",
       "      <td>Vehicle_driver_relation</td>\n",
       "      <td>579</td>\n",
       "    </tr>\n",
       "    <tr>\n",
       "      <th>6</th>\n",
       "      <td>Driving_experience</td>\n",
       "      <td>829</td>\n",
       "    </tr>\n",
       "    <tr>\n",
       "      <th>7</th>\n",
       "      <td>Type_of_vehicle</td>\n",
       "      <td>950</td>\n",
       "    </tr>\n",
       "    <tr>\n",
       "      <th>8</th>\n",
       "      <td>Owner_of_vehicle</td>\n",
       "      <td>482</td>\n",
       "    </tr>\n",
       "    <tr>\n",
       "      <th>9</th>\n",
       "      <td>Service_year_of_vehicle</td>\n",
       "      <td>3928</td>\n",
       "    </tr>\n",
       "    <tr>\n",
       "      <th>10</th>\n",
       "      <td>Defect_of_vehicle</td>\n",
       "      <td>4427</td>\n",
       "    </tr>\n",
       "    <tr>\n",
       "      <th>11</th>\n",
       "      <td>Area_accident_occured</td>\n",
       "      <td>239</td>\n",
       "    </tr>\n",
       "    <tr>\n",
       "      <th>12</th>\n",
       "      <td>Lanes_or_Medians</td>\n",
       "      <td>385</td>\n",
       "    </tr>\n",
       "    <tr>\n",
       "      <th>13</th>\n",
       "      <td>Road_allignment</td>\n",
       "      <td>142</td>\n",
       "    </tr>\n",
       "    <tr>\n",
       "      <th>14</th>\n",
       "      <td>Types_of_Junction</td>\n",
       "      <td>887</td>\n",
       "    </tr>\n",
       "    <tr>\n",
       "      <th>15</th>\n",
       "      <td>Road_surface_type</td>\n",
       "      <td>172</td>\n",
       "    </tr>\n",
       "    <tr>\n",
       "      <th>16</th>\n",
       "      <td>Road_surface_conditions</td>\n",
       "      <td>0</td>\n",
       "    </tr>\n",
       "    <tr>\n",
       "      <th>17</th>\n",
       "      <td>Light_conditions</td>\n",
       "      <td>0</td>\n",
       "    </tr>\n",
       "    <tr>\n",
       "      <th>18</th>\n",
       "      <td>Weather_conditions</td>\n",
       "      <td>0</td>\n",
       "    </tr>\n",
       "    <tr>\n",
       "      <th>19</th>\n",
       "      <td>Type_of_collision</td>\n",
       "      <td>155</td>\n",
       "    </tr>\n",
       "    <tr>\n",
       "      <th>20</th>\n",
       "      <td>Number_of_vehicles_involved</td>\n",
       "      <td>0</td>\n",
       "    </tr>\n",
       "    <tr>\n",
       "      <th>21</th>\n",
       "      <td>Number_of_casualties</td>\n",
       "      <td>0</td>\n",
       "    </tr>\n",
       "    <tr>\n",
       "      <th>22</th>\n",
       "      <td>Vehicle_movement</td>\n",
       "      <td>308</td>\n",
       "    </tr>\n",
       "    <tr>\n",
       "      <th>23</th>\n",
       "      <td>Casualty_class</td>\n",
       "      <td>0</td>\n",
       "    </tr>\n",
       "    <tr>\n",
       "      <th>24</th>\n",
       "      <td>Sex_of_casualty</td>\n",
       "      <td>0</td>\n",
       "    </tr>\n",
       "    <tr>\n",
       "      <th>25</th>\n",
       "      <td>Age_band_of_casualty</td>\n",
       "      <td>0</td>\n",
       "    </tr>\n",
       "    <tr>\n",
       "      <th>26</th>\n",
       "      <td>Casualty_severity</td>\n",
       "      <td>0</td>\n",
       "    </tr>\n",
       "    <tr>\n",
       "      <th>27</th>\n",
       "      <td>Work_of_casuality</td>\n",
       "      <td>3198</td>\n",
       "    </tr>\n",
       "    <tr>\n",
       "      <th>28</th>\n",
       "      <td>Fitness_of_casuality</td>\n",
       "      <td>2635</td>\n",
       "    </tr>\n",
       "    <tr>\n",
       "      <th>29</th>\n",
       "      <td>Pedestrian_movement</td>\n",
       "      <td>0</td>\n",
       "    </tr>\n",
       "    <tr>\n",
       "      <th>30</th>\n",
       "      <td>Cause_of_accident</td>\n",
       "      <td>0</td>\n",
       "    </tr>\n",
       "    <tr>\n",
       "      <th>31</th>\n",
       "      <td>Accident_severity</td>\n",
       "      <td>0</td>\n",
       "    </tr>\n",
       "  </tbody>\n",
       "</table>\n",
       "</div>"
      ],
      "text/plain": [
       "                          index     0\n",
       "0                          Time     0\n",
       "1                   Day_of_week     0\n",
       "2            Age_band_of_driver     0\n",
       "3                 Sex_of_driver     0\n",
       "4             Educational_level   741\n",
       "5       Vehicle_driver_relation   579\n",
       "6            Driving_experience   829\n",
       "7               Type_of_vehicle   950\n",
       "8              Owner_of_vehicle   482\n",
       "9       Service_year_of_vehicle  3928\n",
       "10            Defect_of_vehicle  4427\n",
       "11        Area_accident_occured   239\n",
       "12             Lanes_or_Medians   385\n",
       "13              Road_allignment   142\n",
       "14            Types_of_Junction   887\n",
       "15            Road_surface_type   172\n",
       "16      Road_surface_conditions     0\n",
       "17             Light_conditions     0\n",
       "18           Weather_conditions     0\n",
       "19            Type_of_collision   155\n",
       "20  Number_of_vehicles_involved     0\n",
       "21         Number_of_casualties     0\n",
       "22             Vehicle_movement   308\n",
       "23               Casualty_class     0\n",
       "24              Sex_of_casualty     0\n",
       "25         Age_band_of_casualty     0\n",
       "26            Casualty_severity     0\n",
       "27            Work_of_casuality  3198\n",
       "28         Fitness_of_casuality  2635\n",
       "29          Pedestrian_movement     0\n",
       "30            Cause_of_accident     0\n",
       "31            Accident_severity     0"
      ]
     },
     "execution_count": 20,
     "metadata": {},
     "output_type": "execute_result"
    }
   ],
   "source": [
    "data.isna().sum().reset_index()"
   ]
  },
  {
   "cell_type": "markdown",
   "id": "1c093520",
   "metadata": {
    "papermill": {
     "duration": 0.012228,
     "end_time": "2024-02-04T20:55:14.219690",
     "exception": false,
     "start_time": "2024-02-04T20:55:14.207462",
     "status": "completed"
    },
    "tags": []
   },
   "source": [
    "### Data Preprocessing ------- Data preprocessing is a step in the data mining and data analysis process that takes raw data and transforms it into a format that can be understood and analyzed by computers and machine learning.\n",
    "#### To see all the columns in our data we use set_options --- For our visual easy to analyse data"
   ]
  },
  {
   "cell_type": "code",
   "execution_count": 21,
   "id": "5978cf9b",
   "metadata": {
    "execution": {
     "iopub.execute_input": "2024-02-04T20:55:14.246148Z",
     "iopub.status.busy": "2024-02-04T20:55:14.245777Z",
     "iopub.status.idle": "2024-02-04T20:55:14.273323Z",
     "shell.execute_reply": "2024-02-04T20:55:14.272051Z"
    },
    "papermill": {
     "duration": 0.044036,
     "end_time": "2024-02-04T20:55:14.276063",
     "exception": false,
     "start_time": "2024-02-04T20:55:14.232027",
     "status": "completed"
    },
    "tags": []
   },
   "outputs": [
    {
     "data": {
      "text/html": [
       "<div>\n",
       "<style scoped>\n",
       "    .dataframe tbody tr th:only-of-type {\n",
       "        vertical-align: middle;\n",
       "    }\n",
       "\n",
       "    .dataframe tbody tr th {\n",
       "        vertical-align: top;\n",
       "    }\n",
       "\n",
       "    .dataframe thead th {\n",
       "        text-align: right;\n",
       "    }\n",
       "</style>\n",
       "<table border=\"1\" class=\"dataframe\">\n",
       "  <thead>\n",
       "    <tr style=\"text-align: right;\">\n",
       "      <th></th>\n",
       "      <th>Time</th>\n",
       "      <th>Day_of_week</th>\n",
       "      <th>Age_band_of_driver</th>\n",
       "      <th>Sex_of_driver</th>\n",
       "      <th>Educational_level</th>\n",
       "      <th>Vehicle_driver_relation</th>\n",
       "      <th>Driving_experience</th>\n",
       "      <th>Type_of_vehicle</th>\n",
       "      <th>Owner_of_vehicle</th>\n",
       "      <th>Service_year_of_vehicle</th>\n",
       "      <th>Defect_of_vehicle</th>\n",
       "      <th>Area_accident_occured</th>\n",
       "      <th>Lanes_or_Medians</th>\n",
       "      <th>Road_allignment</th>\n",
       "      <th>Types_of_Junction</th>\n",
       "      <th>Road_surface_type</th>\n",
       "      <th>Road_surface_conditions</th>\n",
       "      <th>Light_conditions</th>\n",
       "      <th>Weather_conditions</th>\n",
       "      <th>Type_of_collision</th>\n",
       "      <th>Number_of_vehicles_involved</th>\n",
       "      <th>Number_of_casualties</th>\n",
       "      <th>Vehicle_movement</th>\n",
       "      <th>Casualty_class</th>\n",
       "      <th>Sex_of_casualty</th>\n",
       "      <th>Age_band_of_casualty</th>\n",
       "      <th>Casualty_severity</th>\n",
       "      <th>Work_of_casuality</th>\n",
       "      <th>Fitness_of_casuality</th>\n",
       "      <th>Pedestrian_movement</th>\n",
       "      <th>Cause_of_accident</th>\n",
       "      <th>Accident_severity</th>\n",
       "    </tr>\n",
       "  </thead>\n",
       "  <tbody>\n",
       "    <tr>\n",
       "      <th>0</th>\n",
       "      <td>17:02:00</td>\n",
       "      <td>Monday</td>\n",
       "      <td>18-30</td>\n",
       "      <td>Male</td>\n",
       "      <td>Above high school</td>\n",
       "      <td>Employee</td>\n",
       "      <td>1-2yr</td>\n",
       "      <td>Automobile</td>\n",
       "      <td>Owner</td>\n",
       "      <td>Above 10yr</td>\n",
       "      <td>No defect</td>\n",
       "      <td>Residential areas</td>\n",
       "      <td>NaN</td>\n",
       "      <td>Tangent road with flat terrain</td>\n",
       "      <td>No junction</td>\n",
       "      <td>Asphalt roads</td>\n",
       "      <td>Dry</td>\n",
       "      <td>Daylight</td>\n",
       "      <td>Normal</td>\n",
       "      <td>Collision with roadside-parked vehicles</td>\n",
       "      <td>2</td>\n",
       "      <td>2</td>\n",
       "      <td>Going straight</td>\n",
       "      <td>na</td>\n",
       "      <td>na</td>\n",
       "      <td>na</td>\n",
       "      <td>na</td>\n",
       "      <td>NaN</td>\n",
       "      <td>NaN</td>\n",
       "      <td>Not a Pedestrian</td>\n",
       "      <td>Moving Backward</td>\n",
       "      <td>Slight Injury</td>\n",
       "    </tr>\n",
       "    <tr>\n",
       "      <th>1</th>\n",
       "      <td>17:02:00</td>\n",
       "      <td>Monday</td>\n",
       "      <td>31-50</td>\n",
       "      <td>Male</td>\n",
       "      <td>Junior high school</td>\n",
       "      <td>Employee</td>\n",
       "      <td>Above 10yr</td>\n",
       "      <td>Public (&gt; 45 seats)</td>\n",
       "      <td>Owner</td>\n",
       "      <td>5-10yrs</td>\n",
       "      <td>No defect</td>\n",
       "      <td>Office areas</td>\n",
       "      <td>Undivided Two way</td>\n",
       "      <td>Tangent road with flat terrain</td>\n",
       "      <td>No junction</td>\n",
       "      <td>Asphalt roads</td>\n",
       "      <td>Dry</td>\n",
       "      <td>Daylight</td>\n",
       "      <td>Normal</td>\n",
       "      <td>Vehicle with vehicle collision</td>\n",
       "      <td>2</td>\n",
       "      <td>2</td>\n",
       "      <td>Going straight</td>\n",
       "      <td>na</td>\n",
       "      <td>na</td>\n",
       "      <td>na</td>\n",
       "      <td>na</td>\n",
       "      <td>NaN</td>\n",
       "      <td>NaN</td>\n",
       "      <td>Not a Pedestrian</td>\n",
       "      <td>Overtaking</td>\n",
       "      <td>Slight Injury</td>\n",
       "    </tr>\n",
       "    <tr>\n",
       "      <th>2</th>\n",
       "      <td>17:02:00</td>\n",
       "      <td>Monday</td>\n",
       "      <td>18-30</td>\n",
       "      <td>Male</td>\n",
       "      <td>Junior high school</td>\n",
       "      <td>Employee</td>\n",
       "      <td>1-2yr</td>\n",
       "      <td>Lorry (41?100Q)</td>\n",
       "      <td>Owner</td>\n",
       "      <td>NaN</td>\n",
       "      <td>No defect</td>\n",
       "      <td>Recreational areas</td>\n",
       "      <td>other</td>\n",
       "      <td>NaN</td>\n",
       "      <td>No junction</td>\n",
       "      <td>Asphalt roads</td>\n",
       "      <td>Dry</td>\n",
       "      <td>Daylight</td>\n",
       "      <td>Normal</td>\n",
       "      <td>Collision with roadside objects</td>\n",
       "      <td>2</td>\n",
       "      <td>2</td>\n",
       "      <td>Going straight</td>\n",
       "      <td>Driver or rider</td>\n",
       "      <td>Male</td>\n",
       "      <td>31-50</td>\n",
       "      <td>3</td>\n",
       "      <td>Driver</td>\n",
       "      <td>NaN</td>\n",
       "      <td>Not a Pedestrian</td>\n",
       "      <td>Changing lane to the left</td>\n",
       "      <td>Serious Injury</td>\n",
       "    </tr>\n",
       "    <tr>\n",
       "      <th>3</th>\n",
       "      <td>1:06:00</td>\n",
       "      <td>Sunday</td>\n",
       "      <td>18-30</td>\n",
       "      <td>Male</td>\n",
       "      <td>Junior high school</td>\n",
       "      <td>Employee</td>\n",
       "      <td>5-10yr</td>\n",
       "      <td>Public (&gt; 45 seats)</td>\n",
       "      <td>Governmental</td>\n",
       "      <td>NaN</td>\n",
       "      <td>No defect</td>\n",
       "      <td>Office areas</td>\n",
       "      <td>other</td>\n",
       "      <td>Tangent road with mild grade and flat terrain</td>\n",
       "      <td>Y Shape</td>\n",
       "      <td>Earth roads</td>\n",
       "      <td>Dry</td>\n",
       "      <td>Darkness - lights lit</td>\n",
       "      <td>Normal</td>\n",
       "      <td>Vehicle with vehicle collision</td>\n",
       "      <td>2</td>\n",
       "      <td>2</td>\n",
       "      <td>Going straight</td>\n",
       "      <td>Pedestrian</td>\n",
       "      <td>Female</td>\n",
       "      <td>18-30</td>\n",
       "      <td>3</td>\n",
       "      <td>Driver</td>\n",
       "      <td>Normal</td>\n",
       "      <td>Not a Pedestrian</td>\n",
       "      <td>Changing lane to the right</td>\n",
       "      <td>Slight Injury</td>\n",
       "    </tr>\n",
       "    <tr>\n",
       "      <th>4</th>\n",
       "      <td>1:06:00</td>\n",
       "      <td>Sunday</td>\n",
       "      <td>18-30</td>\n",
       "      <td>Male</td>\n",
       "      <td>Junior high school</td>\n",
       "      <td>Employee</td>\n",
       "      <td>2-5yr</td>\n",
       "      <td>NaN</td>\n",
       "      <td>Owner</td>\n",
       "      <td>5-10yrs</td>\n",
       "      <td>No defect</td>\n",
       "      <td>Industrial areas</td>\n",
       "      <td>other</td>\n",
       "      <td>Tangent road with flat terrain</td>\n",
       "      <td>Y Shape</td>\n",
       "      <td>Asphalt roads</td>\n",
       "      <td>Dry</td>\n",
       "      <td>Darkness - lights lit</td>\n",
       "      <td>Normal</td>\n",
       "      <td>Vehicle with vehicle collision</td>\n",
       "      <td>2</td>\n",
       "      <td>2</td>\n",
       "      <td>Going straight</td>\n",
       "      <td>na</td>\n",
       "      <td>na</td>\n",
       "      <td>na</td>\n",
       "      <td>na</td>\n",
       "      <td>NaN</td>\n",
       "      <td>NaN</td>\n",
       "      <td>Not a Pedestrian</td>\n",
       "      <td>Overtaking</td>\n",
       "      <td>Slight Injury</td>\n",
       "    </tr>\n",
       "  </tbody>\n",
       "</table>\n",
       "</div>"
      ],
      "text/plain": [
       "       Time Day_of_week Age_band_of_driver Sex_of_driver   Educational_level  \\\n",
       "0  17:02:00      Monday              18-30          Male   Above high school   \n",
       "1  17:02:00      Monday              31-50          Male  Junior high school   \n",
       "2  17:02:00      Monday              18-30          Male  Junior high school   \n",
       "3   1:06:00      Sunday              18-30          Male  Junior high school   \n",
       "4   1:06:00      Sunday              18-30          Male  Junior high school   \n",
       "\n",
       "  Vehicle_driver_relation Driving_experience      Type_of_vehicle  \\\n",
       "0                Employee              1-2yr           Automobile   \n",
       "1                Employee         Above 10yr  Public (> 45 seats)   \n",
       "2                Employee              1-2yr      Lorry (41?100Q)   \n",
       "3                Employee             5-10yr  Public (> 45 seats)   \n",
       "4                Employee              2-5yr                  NaN   \n",
       "\n",
       "  Owner_of_vehicle Service_year_of_vehicle Defect_of_vehicle  \\\n",
       "0            Owner              Above 10yr         No defect   \n",
       "1            Owner                 5-10yrs         No defect   \n",
       "2            Owner                     NaN         No defect   \n",
       "3     Governmental                     NaN         No defect   \n",
       "4            Owner                 5-10yrs         No defect   \n",
       "\n",
       "  Area_accident_occured   Lanes_or_Medians  \\\n",
       "0     Residential areas                NaN   \n",
       "1          Office areas  Undivided Two way   \n",
       "2    Recreational areas              other   \n",
       "3          Office areas              other   \n",
       "4      Industrial areas              other   \n",
       "\n",
       "                                 Road_allignment Types_of_Junction  \\\n",
       "0                 Tangent road with flat terrain       No junction   \n",
       "1                 Tangent road with flat terrain       No junction   \n",
       "2                                            NaN       No junction   \n",
       "3  Tangent road with mild grade and flat terrain           Y Shape   \n",
       "4                 Tangent road with flat terrain           Y Shape   \n",
       "\n",
       "  Road_surface_type Road_surface_conditions       Light_conditions  \\\n",
       "0     Asphalt roads                     Dry               Daylight   \n",
       "1     Asphalt roads                     Dry               Daylight   \n",
       "2     Asphalt roads                     Dry               Daylight   \n",
       "3       Earth roads                     Dry  Darkness - lights lit   \n",
       "4     Asphalt roads                     Dry  Darkness - lights lit   \n",
       "\n",
       "  Weather_conditions                        Type_of_collision  \\\n",
       "0             Normal  Collision with roadside-parked vehicles   \n",
       "1             Normal           Vehicle with vehicle collision   \n",
       "2             Normal          Collision with roadside objects   \n",
       "3             Normal           Vehicle with vehicle collision   \n",
       "4             Normal           Vehicle with vehicle collision   \n",
       "\n",
       "   Number_of_vehicles_involved  Number_of_casualties Vehicle_movement  \\\n",
       "0                            2                     2   Going straight   \n",
       "1                            2                     2   Going straight   \n",
       "2                            2                     2   Going straight   \n",
       "3                            2                     2   Going straight   \n",
       "4                            2                     2   Going straight   \n",
       "\n",
       "    Casualty_class Sex_of_casualty Age_band_of_casualty Casualty_severity  \\\n",
       "0               na              na                   na                na   \n",
       "1               na              na                   na                na   \n",
       "2  Driver or rider            Male                31-50                 3   \n",
       "3       Pedestrian          Female                18-30                 3   \n",
       "4               na              na                   na                na   \n",
       "\n",
       "  Work_of_casuality Fitness_of_casuality Pedestrian_movement  \\\n",
       "0               NaN                  NaN    Not a Pedestrian   \n",
       "1               NaN                  NaN    Not a Pedestrian   \n",
       "2            Driver                  NaN    Not a Pedestrian   \n",
       "3            Driver               Normal    Not a Pedestrian   \n",
       "4               NaN                  NaN    Not a Pedestrian   \n",
       "\n",
       "            Cause_of_accident Accident_severity  \n",
       "0             Moving Backward     Slight Injury  \n",
       "1                  Overtaking     Slight Injury  \n",
       "2   Changing lane to the left    Serious Injury  \n",
       "3  Changing lane to the right     Slight Injury  \n",
       "4                  Overtaking     Slight Injury  "
      ]
     },
     "execution_count": 21,
     "metadata": {},
     "output_type": "execute_result"
    }
   ],
   "source": [
    "pd.set_option('display.max_columns', None)\n",
    "data.head()"
   ]
  },
  {
   "cell_type": "markdown",
   "id": "dee18fcf",
   "metadata": {
    "papermill": {
     "duration": 0.012625,
     "end_time": "2024-02-04T20:55:14.301677",
     "exception": false,
     "start_time": "2024-02-04T20:55:14.289052",
     "status": "completed"
    },
    "tags": []
   },
   "source": [
    "#### Convert the 'Time' column to datetime format"
   ]
  },
  {
   "cell_type": "code",
   "execution_count": 22,
   "id": "4db7ec98",
   "metadata": {
    "execution": {
     "iopub.execute_input": "2024-02-04T20:55:14.328961Z",
     "iopub.status.busy": "2024-02-04T20:55:14.328610Z",
     "iopub.status.idle": "2024-02-04T20:55:14.771001Z",
     "shell.execute_reply": "2024-02-04T20:55:14.769488Z"
    },
    "papermill": {
     "duration": 0.459051,
     "end_time": "2024-02-04T20:55:14.773624",
     "exception": false,
     "start_time": "2024-02-04T20:55:14.314573",
     "status": "completed"
    },
    "tags": []
   },
   "outputs": [
    {
     "data": {
      "text/html": [
       "<div>\n",
       "<style scoped>\n",
       "    .dataframe tbody tr th:only-of-type {\n",
       "        vertical-align: middle;\n",
       "    }\n",
       "\n",
       "    .dataframe tbody tr th {\n",
       "        vertical-align: top;\n",
       "    }\n",
       "\n",
       "    .dataframe thead th {\n",
       "        text-align: right;\n",
       "    }\n",
       "</style>\n",
       "<table border=\"1\" class=\"dataframe\">\n",
       "  <thead>\n",
       "    <tr style=\"text-align: right;\">\n",
       "      <th></th>\n",
       "      <th>index</th>\n",
       "      <th>Time</th>\n",
       "    </tr>\n",
       "  </thead>\n",
       "  <tbody>\n",
       "    <tr>\n",
       "      <th>0</th>\n",
       "      <td>0</td>\n",
       "      <td>2024-04-21 17:02:00</td>\n",
       "    </tr>\n",
       "    <tr>\n",
       "      <th>1</th>\n",
       "      <td>1</td>\n",
       "      <td>2024-04-21 17:02:00</td>\n",
       "    </tr>\n",
       "    <tr>\n",
       "      <th>2</th>\n",
       "      <td>2</td>\n",
       "      <td>2024-04-21 17:02:00</td>\n",
       "    </tr>\n",
       "    <tr>\n",
       "      <th>3</th>\n",
       "      <td>3</td>\n",
       "      <td>2024-04-21 01:06:00</td>\n",
       "    </tr>\n",
       "    <tr>\n",
       "      <th>4</th>\n",
       "      <td>4</td>\n",
       "      <td>2024-04-21 01:06:00</td>\n",
       "    </tr>\n",
       "    <tr>\n",
       "      <th>...</th>\n",
       "      <td>...</td>\n",
       "      <td>...</td>\n",
       "    </tr>\n",
       "    <tr>\n",
       "      <th>12311</th>\n",
       "      <td>12311</td>\n",
       "      <td>2024-04-21 16:15:00</td>\n",
       "    </tr>\n",
       "    <tr>\n",
       "      <th>12312</th>\n",
       "      <td>12312</td>\n",
       "      <td>2024-04-21 18:00:00</td>\n",
       "    </tr>\n",
       "    <tr>\n",
       "      <th>12313</th>\n",
       "      <td>12313</td>\n",
       "      <td>2024-04-21 13:55:00</td>\n",
       "    </tr>\n",
       "    <tr>\n",
       "      <th>12314</th>\n",
       "      <td>12314</td>\n",
       "      <td>2024-04-21 13:55:00</td>\n",
       "    </tr>\n",
       "    <tr>\n",
       "      <th>12315</th>\n",
       "      <td>12315</td>\n",
       "      <td>2024-04-21 13:55:00</td>\n",
       "    </tr>\n",
       "  </tbody>\n",
       "</table>\n",
       "<p>12316 rows × 2 columns</p>\n",
       "</div>"
      ],
      "text/plain": [
       "       index                Time\n",
       "0          0 2024-04-21 17:02:00\n",
       "1          1 2024-04-21 17:02:00\n",
       "2          2 2024-04-21 17:02:00\n",
       "3          3 2024-04-21 01:06:00\n",
       "4          4 2024-04-21 01:06:00\n",
       "...      ...                 ...\n",
       "12311  12311 2024-04-21 16:15:00\n",
       "12312  12312 2024-04-21 18:00:00\n",
       "12313  12313 2024-04-21 13:55:00\n",
       "12314  12314 2024-04-21 13:55:00\n",
       "12315  12315 2024-04-21 13:55:00\n",
       "\n",
       "[12316 rows x 2 columns]"
      ]
     },
     "execution_count": 22,
     "metadata": {},
     "output_type": "execute_result"
    }
   ],
   "source": [
    "data['Time'] = data['Time'].astype('datetime64[ns]')\n",
    "data.loc[::, \"Time\"].reset_index()"
   ]
  },
  {
   "cell_type": "markdown",
   "id": "f1658cdc",
   "metadata": {
    "papermill": {
     "duration": 0.013491,
     "end_time": "2024-02-04T20:55:14.801322",
     "exception": false,
     "start_time": "2024-02-04T20:55:14.787831",
     "status": "completed"
    },
    "tags": []
   },
   "source": [
    "## Data Cleaning\n",
    "#### Data cleaning is the process of fixing or removing incorrect, corrupted, incorrectly formatted, duplicate, or incomplete data within a dataset."
   ]
  },
  {
   "cell_type": "code",
   "execution_count": 23,
   "id": "b37077a5",
   "metadata": {
    "execution": {
     "iopub.execute_input": "2024-02-04T20:55:14.829421Z",
     "iopub.status.busy": "2024-02-04T20:55:14.829023Z",
     "iopub.status.idle": "2024-02-04T20:55:14.850402Z",
     "shell.execute_reply": "2024-02-04T20:55:14.849148Z"
    },
    "papermill": {
     "duration": 0.038501,
     "end_time": "2024-02-04T20:55:14.852972",
     "exception": false,
     "start_time": "2024-02-04T20:55:14.814471",
     "status": "completed"
    },
    "tags": []
   },
   "outputs": [
    {
     "data": {
      "text/html": [
       "<div>\n",
       "<style scoped>\n",
       "    .dataframe tbody tr th:only-of-type {\n",
       "        vertical-align: middle;\n",
       "    }\n",
       "\n",
       "    .dataframe tbody tr th {\n",
       "        vertical-align: top;\n",
       "    }\n",
       "\n",
       "    .dataframe thead th {\n",
       "        text-align: right;\n",
       "    }\n",
       "</style>\n",
       "<table border=\"1\" class=\"dataframe\">\n",
       "  <thead>\n",
       "    <tr style=\"text-align: right;\">\n",
       "      <th></th>\n",
       "      <th>Casualty_class</th>\n",
       "      <th>Sex_of_casualty</th>\n",
       "      <th>Age_band_of_casualty</th>\n",
       "      <th>Casualty_severity</th>\n",
       "      <th>Work_of_casuality</th>\n",
       "      <th>Fitness_of_casuality</th>\n",
       "    </tr>\n",
       "  </thead>\n",
       "  <tbody>\n",
       "    <tr>\n",
       "      <th>3</th>\n",
       "      <td>Pedestrian</td>\n",
       "      <td>Female</td>\n",
       "      <td>18-30</td>\n",
       "      <td>3</td>\n",
       "      <td>Driver</td>\n",
       "      <td>Normal</td>\n",
       "    </tr>\n",
       "    <tr>\n",
       "      <th>5</th>\n",
       "      <td>Driver or rider</td>\n",
       "      <td>Male</td>\n",
       "      <td>31-50</td>\n",
       "      <td>3</td>\n",
       "      <td>Driver</td>\n",
       "      <td>Normal</td>\n",
       "    </tr>\n",
       "    <tr>\n",
       "      <th>6</th>\n",
       "      <td>Driver or rider</td>\n",
       "      <td>Female</td>\n",
       "      <td>18-30</td>\n",
       "      <td>3</td>\n",
       "      <td>Driver</td>\n",
       "      <td>Normal</td>\n",
       "    </tr>\n",
       "    <tr>\n",
       "      <th>8</th>\n",
       "      <td>Pedestrian</td>\n",
       "      <td>Male</td>\n",
       "      <td>Under 18</td>\n",
       "      <td>3</td>\n",
       "      <td>Driver</td>\n",
       "      <td>Normal</td>\n",
       "    </tr>\n",
       "    <tr>\n",
       "      <th>9</th>\n",
       "      <td>Passenger</td>\n",
       "      <td>Male</td>\n",
       "      <td>18-30</td>\n",
       "      <td>3</td>\n",
       "      <td>Driver</td>\n",
       "      <td>Normal</td>\n",
       "    </tr>\n",
       "    <tr>\n",
       "      <th>...</th>\n",
       "      <td>...</td>\n",
       "      <td>...</td>\n",
       "      <td>...</td>\n",
       "      <td>...</td>\n",
       "      <td>...</td>\n",
       "      <td>...</td>\n",
       "    </tr>\n",
       "    <tr>\n",
       "      <th>12311</th>\n",
       "      <td>na</td>\n",
       "      <td>na</td>\n",
       "      <td>na</td>\n",
       "      <td>na</td>\n",
       "      <td>Driver</td>\n",
       "      <td>Normal</td>\n",
       "    </tr>\n",
       "    <tr>\n",
       "      <th>12312</th>\n",
       "      <td>na</td>\n",
       "      <td>na</td>\n",
       "      <td>na</td>\n",
       "      <td>na</td>\n",
       "      <td>Driver</td>\n",
       "      <td>Normal</td>\n",
       "    </tr>\n",
       "    <tr>\n",
       "      <th>12313</th>\n",
       "      <td>Driver or rider</td>\n",
       "      <td>Male</td>\n",
       "      <td>31-50</td>\n",
       "      <td>3</td>\n",
       "      <td>Driver</td>\n",
       "      <td>Normal</td>\n",
       "    </tr>\n",
       "    <tr>\n",
       "      <th>12314</th>\n",
       "      <td>na</td>\n",
       "      <td>na</td>\n",
       "      <td>na</td>\n",
       "      <td>na</td>\n",
       "      <td>Driver</td>\n",
       "      <td>Normal</td>\n",
       "    </tr>\n",
       "    <tr>\n",
       "      <th>12315</th>\n",
       "      <td>Pedestrian</td>\n",
       "      <td>Female</td>\n",
       "      <td>5</td>\n",
       "      <td>3</td>\n",
       "      <td>Driver</td>\n",
       "      <td>Normal</td>\n",
       "    </tr>\n",
       "  </tbody>\n",
       "</table>\n",
       "<p>8960 rows × 6 columns</p>\n",
       "</div>"
      ],
      "text/plain": [
       "        Casualty_class Sex_of_casualty Age_band_of_casualty Casualty_severity  \\\n",
       "3           Pedestrian          Female                18-30                 3   \n",
       "5      Driver or rider            Male                31-50                 3   \n",
       "6      Driver or rider          Female                18-30                 3   \n",
       "8           Pedestrian            Male             Under 18                 3   \n",
       "9            Passenger            Male                18-30                 3   \n",
       "...                ...             ...                  ...               ...   \n",
       "12311               na              na                   na                na   \n",
       "12312               na              na                   na                na   \n",
       "12313  Driver or rider            Male                31-50                 3   \n",
       "12314               na              na                   na                na   \n",
       "12315       Pedestrian          Female                    5                 3   \n",
       "\n",
       "      Work_of_casuality Fitness_of_casuality  \n",
       "3                Driver               Normal  \n",
       "5                Driver               Normal  \n",
       "6                Driver               Normal  \n",
       "8                Driver               Normal  \n",
       "9                Driver               Normal  \n",
       "...                 ...                  ...  \n",
       "12311            Driver               Normal  \n",
       "12312            Driver               Normal  \n",
       "12313            Driver               Normal  \n",
       "12314            Driver               Normal  \n",
       "12315            Driver               Normal  \n",
       "\n",
       "[8960 rows x 6 columns]"
      ]
     },
     "execution_count": 23,
     "metadata": {},
     "output_type": "execute_result"
    }
   ],
   "source": [
    "data[[\"Casualty_class\", \"Sex_of_casualty\", \"Age_band_of_casualty\", \"Casualty_severity\", \"Work_of_casuality\",\"Fitness_of_casuality\"]].dropna()"
   ]
  },
  {
   "cell_type": "markdown",
   "id": "91465bd2",
   "metadata": {
    "papermill": {
     "duration": 0.013126,
     "end_time": "2024-02-04T20:55:14.879597",
     "exception": false,
     "start_time": "2024-02-04T20:55:14.866471",
     "status": "completed"
    },
    "tags": []
   },
   "source": [
    "## Analysis With Exploratory Data Analysis\n",
    "### Which age band of drivers is involved in the highest number of accidents?"
   ]
  },
  {
   "cell_type": "code",
   "execution_count": 24,
   "id": "b40edcd4",
   "metadata": {
    "execution": {
     "iopub.execute_input": "2024-02-04T20:55:14.908761Z",
     "iopub.status.busy": "2024-02-04T20:55:14.907993Z",
     "iopub.status.idle": "2024-02-04T20:55:15.505330Z",
     "shell.execute_reply": "2024-02-04T20:55:15.504073Z"
    },
    "papermill": {
     "duration": 0.614597,
     "end_time": "2024-02-04T20:55:15.507781",
     "exception": false,
     "start_time": "2024-02-04T20:55:14.893184",
     "status": "completed"
    },
    "tags": []
   },
   "outputs": [
    {
     "data": {
      "image/png": "[encoded data removed]",
      "text/plain": [
       "<Figure size 1200x600 with 1 Axes>"
      ]
     },
     "metadata": {},
     "output_type": "display_data"
    },
    {
     "data": {
      "image/png": "[encoded data removed]",
      "text/plain": [
       "<Figure size 1200x600 with 1 Axes>"
      ]
     },
     "metadata": {},
     "output_type": "display_data"
    }
   ],
   "source": [
    "age_band_counts = data['Age_band_of_driver'].value_counts()\n",
    "color = ['lightblue', 'blue', 'green', 'red', 'yellow']\n",
    "plt.figure(figsize=(12, 6)) # This line creates a new Matplotlib figure with a specified size of 12 inches in width and 6 inches in height.\n",
    "plt.bar(age_band_counts.index, age_band_counts.values, color=color) #The x-axis values are taken from the index of 'age_band_counts' (which represents the unique age bands), and the y-axis values are taken from the counts. The 'color' parameter specifies the colors of the bars.\n",
    "plt.title('Number of Accidents by Age Band of Drivers') #This line sets the title of the plot.\n",
    "plt.xlabel('Age Band of Drivers') #This line sets the label for the x-axis.\n",
    "plt.ylabel('Number of Accidents') #This line sets the label for the y-axis.\n",
    "plt.xticks(rotation=45) #This line rotates the x-axis labels by 45 degrees for better readability.\n",
    "plt.show() # This line displays the plot.\n",
    "\n",
    "# or we can also use sns for this \n",
    "\n",
    "plt.figure(figsize=(12, 6))\n",
    "sns.barplot(x=age_band_counts.index, y=age_band_counts.values, palette=\"husl\")\n",
    "# This line uses Seaborn's barplot function to generate a bar chart. The x-axis values are specified by age_band_counts.index (representing the unique age bands), and the y-axis values are specified by age_band_counts.values (representing the counts). The palette=\"husl\" parameter sets the color palette to \"husl\" for the bars.\n",
    "plt.title('Number of Accidents by Age Band of Drivers')\n",
    "plt.xlabel('Age Band of Drivers')\n",
    "plt.ylabel('Number of Accidents')\n",
    "plt.xticks(rotation=45)\n",
    "plt.show()"
   ]
  },
  {
   "cell_type": "markdown",
   "id": "489d65b4",
   "metadata": {
    "papermill": {
     "duration": 0.015549,
     "end_time": "2024-02-04T20:55:15.538501",
     "exception": false,
     "start_time": "2024-02-04T20:55:15.522952",
     "status": "completed"
    },
    "tags": []
   },
   "source": [
    "### Conclusion:-\n",
    "#### 1. The age band with the highest number of accidents is 18-30 and also their is not huge difference in 31-50 age band \n",
    "#### 2. To better target safety measures, it would be helpful to look into the causes of the high accident rate in the designated age group.\n",
    "***"
   ]
  },
  {
   "cell_type": "markdown",
   "id": "5f38af1c",
   "metadata": {
    "papermill": {
     "duration": 0.014809,
     "end_time": "2024-02-04T20:55:15.569908",
     "exception": false,
     "start_time": "2024-02-04T20:55:15.555099",
     "status": "completed"
    },
    "tags": []
   },
   "source": [
    "### On which day of the week do accidents most commonly occur?"
   ]
  },
  {
   "cell_type": "code",
   "execution_count": 25,
   "id": "1a4ff9f5",
   "metadata": {
    "execution": {
     "iopub.execute_input": "2024-02-04T20:55:15.603793Z",
     "iopub.status.busy": "2024-02-04T20:55:15.603052Z",
     "iopub.status.idle": "2024-02-04T20:55:15.857750Z",
     "shell.execute_reply": "2024-02-04T20:55:15.856577Z"
    },
    "papermill": {
     "duration": 0.274356,
     "end_time": "2024-02-04T20:55:15.860255",
     "exception": false,
     "start_time": "2024-02-04T20:55:15.585899",
     "status": "completed"
    },
    "tags": []
   },
   "outputs": [
    {
     "data": {
      "image/png": "[encoded data removed]",
      "text/plain": [
       "<Figure size 1000x600 with 1 Axes>"
      ]
     },
     "metadata": {},
     "output_type": "display_data"
    }
   ],
   "source": [
    "day_of_week_counts = data['Day_of_week'].value_counts()\n",
    "days_order = ['Monday', 'Tuesday', 'Wednesday', 'Thursday', 'Friday', 'Saturday', 'Sunday']\n",
    "day_of_week_counts = day_of_week_counts.reindex(days_order) # The reindex method in pandas is used to change the order of the elements in a Series or DataFrame along a particular axis. It returns a new object with the data conformed to a new index.\n",
    "plt.figure(figsize=(10, 6))\n",
    "sns.barplot(x=day_of_week_counts.index, y=day_of_week_counts, palette='viridis')\n",
    "plt.title('Accidents by Day of the Week')\n",
    "plt.xlabel('Day of the Week')\n",
    "plt.ylabel('Number of Accidents')\n",
    "plt.show()"
   ]
  },
  {
   "cell_type": "markdown",
   "id": "054a366b",
   "metadata": {
    "papermill": {
     "duration": 0.014875,
     "end_time": "2024-02-04T20:55:15.890325",
     "exception": false,
     "start_time": "2024-02-04T20:55:15.875450",
     "status": "completed"
    },
    "tags": []
   },
   "source": [
    "### Conclusion:-\n",
    "#### The graph displays the days with the most and least accidents. The days with the highest bars are the ones that had the most accidents, as you can see.\n",
    "***\n"
   ]
  },
  {
   "cell_type": "markdown",
   "id": "6475be64",
   "metadata": {
    "papermill": {
     "duration": 0.016858,
     "end_time": "2024-02-04T20:55:15.922422",
     "exception": false,
     "start_time": "2024-02-04T20:55:15.905564",
     "status": "completed"
    },
    "tags": []
   },
   "source": [
    "###  What is the most common educational level among drivers involved in accidents?"
   ]
  },
  {
   "cell_type": "code",
   "execution_count": 26,
   "id": "af7def42",
   "metadata": {
    "execution": {
     "iopub.execute_input": "2024-02-04T20:55:15.956500Z",
     "iopub.status.busy": "2024-02-04T20:55:15.955235Z",
     "iopub.status.idle": "2024-02-04T20:55:16.267188Z",
     "shell.execute_reply": "2024-02-04T20:55:16.266288Z"
    },
    "papermill": {
     "duration": 0.332375,
     "end_time": "2024-02-04T20:55:16.269908",
     "exception": false,
     "start_time": "2024-02-04T20:55:15.937533",
     "status": "completed"
    },
    "tags": []
   },
   "outputs": [
    {
     "data": {
      "image/png": "[encoded data removed]",
      "text/plain": [
       "<Figure size 1000x600 with 1 Axes>"
      ]
     },
     "metadata": {},
     "output_type": "display_data"
    }
   ],
   "source": [
    "education_counts = data['Educational_level'].value_counts()\n",
    "most_common_education = education_counts.idxmax() # The idxmax() method in pandas is used to find the index (label) of the first occurrence of the maximum value in a Series.\n",
    "plt.figure(figsize=(10, 6))\n",
    "sns.countplot(x='Educational_level', data=data, order=data['Educational_level'].value_counts().index)\n",
    "plt.title('Distribution of Educational Levels among Drivers Involved in Accidents')\n",
    "plt.xlabel('Educational Level')\n",
    "plt.ylabel('Count')\n",
    "plt.xticks(rotation=45)\n",
    "plt.show()"
   ]
  },
  {
   "cell_type": "markdown",
   "id": "48bdc85a",
   "metadata": {
    "papermill": {
     "duration": 0.01645,
     "end_time": "2024-02-04T20:55:16.302724",
     "exception": false,
     "start_time": "2024-02-04T20:55:16.286274",
     "status": "completed"
    },
    "tags": []
   },
   "source": [
    "### Conclusion:-\n",
    "#### 1. The analysis of the dataset reveals that the most common educational level among drivers involved in accidents is Junior high school .\n",
    "#### 2. The demographics of drivers impacted by accidents are shown by this data, which may be useful for focused safety initiatives and awareness campaigns.\n",
    "***"
   ]
  },
  {
   "cell_type": "markdown",
   "id": "96017ac1",
   "metadata": {
    "papermill": {
     "duration": 0.020053,
     "end_time": "2024-02-04T20:55:16.338882",
     "exception": false,
     "start_time": "2024-02-04T20:55:16.318829",
     "status": "completed"
    },
    "tags": []
   },
   "source": [
    "### Can you identify any patterns in accidents such as specific hours of the day or days of the week when accidents are more likely to occur?"
   ]
  },
  {
   "cell_type": "code",
   "execution_count": 27,
   "id": "3bb2c30a",
   "metadata": {
    "execution": {
     "iopub.execute_input": "2024-02-04T20:55:16.378886Z",
     "iopub.status.busy": "2024-02-04T20:55:16.378040Z",
     "iopub.status.idle": "2024-02-04T20:55:16.974844Z",
     "shell.execute_reply": "2024-02-04T20:55:16.973643Z"
    },
    "papermill": {
     "duration": 0.620775,
     "end_time": "2024-02-04T20:55:16.977320",
     "exception": false,
     "start_time": "2024-02-04T20:55:16.356545",
     "status": "completed"
    },
    "tags": []
   },
   "outputs": [
    {
     "data": {
      "image/png": "[encoded data removed]",
      "text/plain": [
       "<Figure size 1200x600 with 1 Axes>"
      ]
     },
     "metadata": {},
     "output_type": "display_data"
    },
    {
     "data": {
      "image/png": "[encoded data removed]",
      "text/plain": [
       "<Figure size 1200x600 with 1 Axes>"
      ]
     },
     "metadata": {},
     "output_type": "display_data"
    }
   ],
   "source": [
    "data['Hour'] = data['Time'].dt.hour #  Extracts the hour component from the 'Time' column and creates a new column called 'Hour' in the DataFrame 'data'.\n",
    "data['Day_of_week'] = pd.Categorical(data['Day_of_week'], categories=['Monday', 'Tuesday', 'Wednesday', 'Thursday', 'Friday', 'Saturday', 'Sunday'], ordered=True)\n",
    "# Converts the 'Day_of_week' column to a categorical variable with the specified order of categories (days of the week).\n",
    "plt.figure(figsize=(12, 6))\n",
    "sns.countplot(x='Hour', data=data, palette='rainbow')\n",
    "plt.title('Accidents by Hour of the Day')\n",
    "plt.xlabel('Hour of the Day')\n",
    "plt.ylabel('Number of Accidents')\n",
    "plt.show()\n",
    "plt.figure(figsize=(12, 6))\n",
    "sns.countplot(x='Day_of_week', data=data, palette='viridis')\n",
    "plt.title('Accidents by Day of the Week')\n",
    "plt.xlabel('Day of the Week')\n",
    "plt.ylabel('Number of Accidents')\n",
    "plt.show()"
   ]
  },
  {
   "cell_type": "markdown",
   "id": "f2fff78e",
   "metadata": {
    "papermill": {
     "duration": 0.019372,
     "end_time": "2024-02-04T20:55:17.015636",
     "exception": false,
     "start_time": "2024-02-04T20:55:16.996264",
     "status": "completed"
    },
    "tags": []
   },
   "source": [
    "# Conclusion:-\n",
    "#### 1. Accidents tend to occur more frequently during certain hours of the day.\n",
    "#### 2. There are variations in the number of accidents throughout the days of the week. Accidents do not seems to have any relation with days of week\n",
    "***\n"
   ]
  },
  {
   "cell_type": "markdown",
   "id": "c4d42923",
   "metadata": {
    "papermill": {
     "duration": 0.01788,
     "end_time": "2024-02-04T20:55:17.051963",
     "exception": false,
     "start_time": "2024-02-04T20:55:17.034083",
     "status": "completed"
    },
    "tags": []
   },
   "source": [
    "### Which Vehicles tends to had more number of accidents ?"
   ]
  },
  {
   "cell_type": "code",
   "execution_count": 28,
   "id": "07cc9f67",
   "metadata": {
    "execution": {
     "iopub.execute_input": "2024-02-04T20:55:17.091069Z",
     "iopub.status.busy": "2024-02-04T20:55:17.089941Z",
     "iopub.status.idle": "2024-02-04T20:55:17.405114Z",
     "shell.execute_reply": "2024-02-04T20:55:17.403603Z"
    },
    "papermill": {
     "duration": 0.337993,
     "end_time": "2024-02-04T20:55:17.407924",
     "exception": false,
     "start_time": "2024-02-04T20:55:17.069931",
     "status": "completed"
    },
    "tags": []
   },
   "outputs": [
    {
     "data": {
      "image/png": "[encoded data removed]",
      "text/plain": [
       "<Figure size 1200x600 with 1 Axes>"
      ]
     },
     "metadata": {},
     "output_type": "display_data"
    }
   ],
   "source": [
    "accident_due_vehicles = data[\"Type_of_vehicle\"].reset_index() #  When you apply reset_index(), it resets the index of the DataFrame or Series and creates a new default integer index.\n",
    "plt.figure(figsize = (12, 6))\n",
    "sns.countplot(x='Type_of_vehicle',data=accident_due_vehicles,palette='Set2')\n",
    "plt.xticks(rotation=45)\n",
    "plt.show()"
   ]
  },
  {
   "cell_type": "markdown",
   "id": "bdd2dbf6",
   "metadata": {
    "papermill": {
     "duration": 0.01842,
     "end_time": "2024-02-04T20:55:17.445630",
     "exception": false,
     "start_time": "2024-02-04T20:55:17.427210",
     "status": "completed"
    },
    "tags": []
   },
   "source": [
    "#### Automobile vehicles tends to had more number of accidents\n",
    "***"
   ]
  },
  {
   "cell_type": "markdown",
   "id": "a0cd493c",
   "metadata": {
    "papermill": {
     "duration": 0.018163,
     "end_time": "2024-02-04T20:55:17.482549",
     "exception": false,
     "start_time": "2024-02-04T20:55:17.464386",
     "status": "completed"
    },
    "tags": []
   },
   "source": [
    "### How do the patterns of accidents change during weekends compared to weekdays?"
   ]
  },
  {
   "cell_type": "code",
   "execution_count": 29,
   "id": "bd0390bd",
   "metadata": {
    "execution": {
     "iopub.execute_input": "2024-02-04T20:55:17.522262Z",
     "iopub.status.busy": "2024-02-04T20:55:17.520979Z",
     "iopub.status.idle": "2024-02-04T20:55:17.540831Z",
     "shell.execute_reply": "2024-02-04T20:55:17.539221Z"
    },
    "papermill": {
     "duration": 0.042814,
     "end_time": "2024-02-04T20:55:17.543752",
     "exception": false,
     "start_time": "2024-02-04T20:55:17.500938",
     "status": "completed"
    },
    "tags": []
   },
   "outputs": [
    {
     "name": "stdout",
     "output_type": "stream",
     "text": [
      "Accident_severity  Weekday  Fatal injury  Serious Injury  Slight Injury\n",
      "0                  Weekday            86            1308           7789\n",
      "1                  Weekend            72             435           2626\n"
     ]
    }
   ],
   "source": [
    "data['Weekday'] = data['Day_of_week'].apply(lambda x: 'Weekend' if x in ['Saturday', 'Sunday'] else 'Weekday')\n",
    "weekday_weekend_counts = data.groupby(['Weekday', 'Accident_severity']).size().unstack().reset_index() #unstack() is used to reshape the given Pandas DataFrame by transposing specified row level to column level.\n",
    "print(weekday_weekend_counts)\n"
   ]
  },
  {
   "cell_type": "markdown",
   "id": "c443a346",
   "metadata": {
    "papermill": {
     "duration": 0.018472,
     "end_time": "2024-02-04T20:55:17.581103",
     "exception": false,
     "start_time": "2024-02-04T20:55:17.562631",
     "status": "completed"
    },
    "tags": []
   },
   "source": [
    "### Conclusion:-\n",
    "#### 1. Overall, the majority of accidents result in slight injuries, with the highest counts observed on weekdays.\n",
    "#### 2. Serious injuries also have a higher frequency on weekdays compared to weekends.\n",
    "#### 3.  The count of slight injuries is significantly higher on weekdays (7789) than on weekends (2626).\n",
    "***"
   ]
  },
  {
   "cell_type": "markdown",
   "id": "e9c688a6",
   "metadata": {
    "papermill": {
     "duration": 0.01947,
     "end_time": "2024-02-04T20:55:17.619700",
     "exception": false,
     "start_time": "2024-02-04T20:55:17.600230",
     "status": "completed"
    },
    "tags": []
   },
   "source": [
    "### Find correlation between Number_of_vehicles_involved and Number_of_casualties?"
   ]
  },
  {
   "cell_type": "code",
   "execution_count": 30,
   "id": "a2200ff1",
   "metadata": {
    "execution": {
     "iopub.execute_input": "2024-02-04T20:55:17.659518Z",
     "iopub.status.busy": "2024-02-04T20:55:17.659066Z",
     "iopub.status.idle": "2024-02-04T20:55:17.932391Z",
     "shell.execute_reply": "2024-02-04T20:55:17.931445Z"
    },
    "papermill": {
     "duration": 0.296396,
     "end_time": "2024-02-04T20:55:17.935078",
     "exception": false,
     "start_time": "2024-02-04T20:55:17.638682",
     "status": "completed"
    },
    "tags": []
   },
   "outputs": [
    {
     "data": {
      "image/png": "[encoded data removed]",
      "text/plain": [
       "<Figure size 800x600 with 2 Axes>"
      ]
     },
     "metadata": {},
     "output_type": "display_data"
    }
   ],
   "source": [
    "find_cor = data[['Number_of_vehicles_involved', 'Number_of_casualties']]\n",
    "correlation_mat = find_cor.corr()\n",
    "plt.figure(figsize=(8, 6))\n",
    "sns.heatmap(data=correlation_mat, annot=True, cmap='coolwarm', fmt='.2f', linewidths=1)\n",
    "plt.title('Correlation Plot: Number of Vehicles Involved vs. Number of Casualties')\n",
    "plt.show()"
   ]
  },
  {
   "cell_type": "markdown",
   "id": "08d08c4f",
   "metadata": {
    "papermill": {
     "duration": 0.020848,
     "end_time": "2024-02-04T20:55:17.975590",
     "exception": false,
     "start_time": "2024-02-04T20:55:17.954742",
     "status": "completed"
    },
    "tags": []
   },
   "source": [
    "### Counclusion:-\n",
    "#### Correlation coefficient is positive (closer to 1), it suggests a positive correlation. In this context, it could mean that as the number of vehicles involved in an accident increases, the number of casualties also tends to increase.\n",
    "***"
   ]
  },
  {
   "cell_type": "markdown",
   "id": "5758820a",
   "metadata": {
    "papermill": {
     "duration": 0.01952,
     "end_time": "2024-02-04T20:55:18.015800",
     "exception": false,
     "start_time": "2024-02-04T20:55:17.996280",
     "status": "completed"
    },
    "tags": []
   },
   "source": [
    "### Create a new column(Morning, Afternoon, Evening, Night) based on the time of the accident. "
   ]
  },
  {
   "cell_type": "code",
   "execution_count": 32,
   "id": "d501cfeb",
   "metadata": {
    "execution": {
     "iopub.execute_input": "2024-02-04T20:55:18.057977Z",
     "iopub.status.busy": "2024-02-04T20:55:18.057157Z",
     "iopub.status.idle": "2024-02-04T20:55:18.088349Z",
     "shell.execute_reply": "2024-02-04T20:55:18.087164Z"
    },
    "papermill": {
     "duration": 0.055362,
     "end_time": "2024-02-04T20:55:18.090982",
     "exception": false,
     "start_time": "2024-02-04T20:55:18.035620",
     "status": "completed"
    },
    "tags": []
   },
   "outputs": [
    {
     "data": {
      "text/plain": [
       "Part_of_Day\n",
       "Afternoon    5125\n",
       "Morning      3312\n",
       "Evening      3280\n",
       "Night         599\n",
       "Name: count, dtype: int64"
      ]
     },
     "execution_count": 32,
     "metadata": {},
     "output_type": "execute_result"
    }
   ],
   "source": [
    "data['Time'] = pd.to_datetime(data['Time'], errors='coerce') # If the error argument is passed as coerce , then invalid parsing will be set as NaN .\n",
    "def categorize_part_of_day(hour):\n",
    "    if 5 <= hour < 12:\n",
    "        return 'Morning'\n",
    "    elif 12 <= hour < 18:\n",
    "        return 'Afternoon'\n",
    "    elif 18 <= hour < 24:\n",
    "        return 'Evening'\n",
    "    else:\n",
    "        return 'Night'\n",
    "data['Part_of_Day'] = data['Time'].dt.hour.apply(categorize_part_of_day)\n",
    "data[\"Part_of_Day\"].value_counts()"
   ]
  },
  {
   "cell_type": "markdown",
   "id": "7648b20f",
   "metadata": {
    "papermill": {
     "duration": 0.018784,
     "end_time": "2024-02-04T20:55:18.129614",
     "exception": false,
     "start_time": "2024-02-04T20:55:18.110830",
     "status": "completed"
    },
    "tags": []
   },
   "source": [
    "### List most common Accident_severity according to Driving_experience wise"
   ]
  },
  {
   "cell_type": "code",
   "execution_count": 33,
   "id": "320c2b8a",
   "metadata": {
    "execution": {
     "iopub.execute_input": "2024-02-04T20:55:18.171565Z",
     "iopub.status.busy": "2024-02-04T20:55:18.171145Z",
     "iopub.status.idle": "2024-02-04T20:55:18.187675Z",
     "shell.execute_reply": "2024-02-04T20:55:18.186797Z"
    },
    "papermill": {
     "duration": 0.040876,
     "end_time": "2024-02-04T20:55:18.189944",
     "exception": false,
     "start_time": "2024-02-04T20:55:18.149068",
     "status": "completed"
    },
    "tags": []
   },
   "outputs": [
    {
     "data": {
      "text/plain": [
       "Accident_severity\n",
       "Fatal injury         (2-5yr, Fatal injury)\n",
       "Serious Injury    (5-10yr, Serious Injury)\n",
       "Slight Injury      (5-10yr, Slight Injury)\n",
       "Name: count, dtype: object"
      ]
     },
     "execution_count": 33,
     "metadata": {},
     "output_type": "execute_result"
    }
   ],
   "source": [
    "grouped_data  = data.groupby('Driving_experience')['Accident_severity'].value_counts()\n",
    "most_common_sources = grouped_data.groupby('Accident_severity').idxmax()\n",
    "most_common_sources"
   ]
  },
  {
   "cell_type": "markdown",
   "id": "c07eecc1",
   "metadata": {
    "papermill": {
     "duration": 0.018793,
     "end_time": "2024-02-04T20:55:18.227895",
     "exception": false,
     "start_time": "2024-02-04T20:55:18.209102",
     "status": "completed"
    },
    "tags": []
   },
   "source": [
    "### Counclusion:-\n",
    "#### 1. This category implies injuries that are fatal caused by Driver with experience 2 to 5 years old.\n",
    "#### 2. This category implies injuries that are Serious caused by Driver with experience 5 to 10 years old\n",
    "#### 3. This category implies injuries that are Slight caused by Driver with experience 5 to 10 years old"
   ]
  },
  {
   "cell_type": "markdown",
   "id": "63aecb56",
   "metadata": {
    "papermill": {
     "duration": 0.019671,
     "end_time": "2024-02-04T20:55:18.267243",
     "exception": false,
     "start_time": "2024-02-04T20:55:18.247572",
     "status": "completed"
    },
    "tags": []
   },
   "source": [
    "# <span style='color:Red'> THANK YOU!  </span>"
   ]
  }
 ],
 "metadata": {
  "kaggle": {
   "accelerator": "none",
   "dataSources": [
    {
     "datasetId": 3932900,
     "sourceId": 6841459,
     "sourceType": "datasetVersion"
    }
   ],
   "dockerImageVersionId": 30646,
   "isGpuEnabled": false,
   "isInternetEnabled": true,
   "language": "python",
   "sourceType": "notebook"
  },
  "kernelspec": {
   "display_name": "Python 3",
   "language": "python",
   "name": "python3"
  },
  "language_info": {
   "codemirror_mode": {
    "name": "ipython",
    "version": 3
   },
   "file_extension": ".py",
   "mimetype": "text/x-python",
   "name": "python",
   "nbconvert_exporter": "python",
   "pygments_lexer": "ipython3",
   "version": "3.11.5"
  },
  "papermill": {
   "default_parameters": {},
   "duration": 11.468554,
   "end_time": "2024-02-04T20:55:18.908198",
   "environment_variables": {},
   "exception": null,
   "input_path": "__notebook__.ipynb",
   "output_path": "__notebook__.ipynb",
   "parameters": {},
   "start_time": "2024-02-04T20:55:07.439644",
   "version": "2.5.0"
  }
 },
 "nbformat": 4,
 "nbformat_minor": 5
}
